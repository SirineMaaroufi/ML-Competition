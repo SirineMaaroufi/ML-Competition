{
  "cells": [
    {
      "cell_type": "markdown",
      "metadata": {
        "id": "view-in-github",
        "colab_type": "text"
      },
      "source": [
        "<a href=\"https://colab.research.google.com/github/SirineMaaroufi/ML-Competition/blob/main/Solution_v2.ipynb\" target=\"_parent\"><img src=\"https://colab.research.google.com/assets/colab-badge.svg\" alt=\"Open In Colab\"/></a>"
      ]
    },
    {
      "cell_type": "markdown",
      "metadata": {
        "id": "P7kXwspAKm_W"
      },
      "source": [
        "# Machine Learning Competition Aug22 By Business & AI\n",
        "### Author: Sirine Maàroufi"
      ]
    },
    {
      "cell_type": "markdown",
      "metadata": {
        "id": "6OHTgKf7ObDY"
      },
      "source": [
        "## Importing important libraries"
      ]
    },
    {
      "cell_type": "code",
      "execution_count": null,
      "metadata": {
        "colab": {
          "base_uri": "https://localhost:8080/"
        },
        "id": "gxxdw-t10EXa",
        "outputId": "e9268787-830e-476e-a82e-f6a49387d437"
      },
      "outputs": [
        {
          "name": "stdout",
          "output_type": "stream",
          "text": [
            "Requirement already satisfied: feature_engine in /usr/local/lib/python3.10/dist-packages (1.6.1)\n",
            "Requirement already satisfied: numpy>=1.18.2 in /usr/local/lib/python3.10/dist-packages (from feature_engine) (1.23.5)\n",
            "Requirement already satisfied: pandas>=1.0.3 in /usr/local/lib/python3.10/dist-packages (from feature_engine) (1.5.3)\n",
            "Requirement already satisfied: scikit-learn>=1.0.0 in /usr/local/lib/python3.10/dist-packages (from feature_engine) (1.2.2)\n",
            "Requirement already satisfied: scipy>=1.4.1 in /usr/local/lib/python3.10/dist-packages (from feature_engine) (1.10.1)\n",
            "Requirement already satisfied: statsmodels>=0.11.1 in /usr/local/lib/python3.10/dist-packages (from feature_engine) (0.14.0)\n",
            "Requirement already satisfied: python-dateutil>=2.8.1 in /usr/local/lib/python3.10/dist-packages (from pandas>=1.0.3->feature_engine) (2.8.2)\n",
            "Requirement already satisfied: pytz>=2020.1 in /usr/local/lib/python3.10/dist-packages (from pandas>=1.0.3->feature_engine) (2023.3)\n",
            "Requirement already satisfied: joblib>=1.1.1 in /usr/local/lib/python3.10/dist-packages (from scikit-learn>=1.0.0->feature_engine) (1.3.2)\n",
            "Requirement already satisfied: threadpoolctl>=2.0.0 in /usr/local/lib/python3.10/dist-packages (from scikit-learn>=1.0.0->feature_engine) (3.2.0)\n",
            "Requirement already satisfied: patsy>=0.5.2 in /usr/local/lib/python3.10/dist-packages (from statsmodels>=0.11.1->feature_engine) (0.5.3)\n",
            "Requirement already satisfied: packaging>=21.3 in /usr/local/lib/python3.10/dist-packages (from statsmodels>=0.11.1->feature_engine) (23.1)\n",
            "Requirement already satisfied: six in /usr/local/lib/python3.10/dist-packages (from patsy>=0.5.2->statsmodels>=0.11.1->feature_engine) (1.16.0)\n"
          ]
        }
      ],
      "source": [
        "pip install feature_engine"
      ]
    },
    {
      "cell_type": "code",
      "execution_count": null,
      "metadata": {
        "id": "Xh6Su8-iWc-i"
      },
      "outputs": [],
      "source": [
        "import numpy as np\n",
        "import pandas as pd\n",
        "from datetime import datetime\n",
        "from sklearn import metrics\n",
        "import math\n",
        "from sklearn.metrics import mean_absolute_error,r2_score,mean_squared_error\n",
        "from sklearn.feature_extraction.text import TfidfVectorizer, CountVectorizer\n",
        "from feature_engine import transformation as vt\n",
        "from feature_engine.imputation import DropMissingData, MeanMedianImputer, CategoricalImputer\n",
        "from feature_engine.datetime import DatetimeFeatures\n",
        "from feature_engine.selection import SmartCorrelatedSelection,DropConstantFeatures,DropDuplicateFeatures\n",
        "from sklearn.preprocessing import PolynomialFeatures,  StandardScaler\n",
        "from sklearn.decomposition import PCA, TruncatedSVD\n",
        "from sklearn.compose import ColumnTransformer, make_column_selector\n",
        "from sklearn.pipeline import  Pipeline\n",
        "from sklearn.linear_model import LinearRegression , Ridge , RANSACRegressor, Lasso, ElasticNet , HuberRegressor\n",
        "from sklearn.compose import TransformedTargetRegressor\n",
        "from sklearn.model_selection import train_test_split\n",
        "from feature_engine.outliers import OutlierTrimmer\n",
        "from sklearn.ensemble import  RandomForestRegressor\n",
        "from sklearn.svm import SVR\n",
        "from sklearn.neighbors import KNeighborsRegressor\n",
        "from sklearn.tree import DecisionTreeRegressor\n",
        "from sklearn.neural_network import MLPRegressor\n",
        "import warnings\n",
        "warnings.filterwarnings(\"ignore\")"
      ]
    },
    {
      "cell_type": "markdown",
      "metadata": {
        "id": "GjBAiIqHfawm"
      },
      "source": [
        "<a id='wrangling'></a>\n",
        "## Data Wrangling\n",
        "### General Properties"
      ]
    },
    {
      "cell_type": "code",
      "execution_count": null,
      "metadata": {
        "collapsed": true,
        "id": "OhEPnKNNfawm"
      },
      "outputs": [],
      "source": [
        "# Importing the training data\n",
        "df = pd.read_csv('Xy_train.csv', sep = ';')"
      ]
    },
    {
      "cell_type": "code",
      "execution_count": null,
      "metadata": {
        "colab": {
          "base_uri": "https://localhost:8080/"
        },
        "id": "ooT4uhCJxEV6",
        "outputId": "0dfb1bd6-4627-448d-dfb3-da3027f4c17d"
      },
      "outputs": [
        {
          "data": {
            "text/plain": [
              "(45000, 28)"
            ]
          },
          "execution_count": 4,
          "metadata": {},
          "output_type": "execute_result"
        }
      ],
      "source": [
        "# Getting the shape of our data\n",
        "df.shape"
      ]
    },
    {
      "cell_type": "code",
      "execution_count": null,
      "metadata": {
        "colab": {
          "base_uri": "https://localhost:8080/"
        },
        "id": "HAlsITqdxPS8",
        "outputId": "d0647b45-6ba8-4d42-dec6-c6b4c69a770b"
      },
      "outputs": [
        {
          "name": "stdout",
          "output_type": "stream",
          "text": [
            "<class 'pandas.core.frame.DataFrame'>\n",
            "RangeIndex: 45000 entries, 0 to 44999\n",
            "Data columns (total 28 columns):\n",
            " #   Column   Non-Null Count  Dtype  \n",
            "---  ------   --------------  -----  \n",
            " 0   _id      45000 non-null  object \n",
            " 1   categ_0  45000 non-null  int64  \n",
            " 2   txt_0    45000 non-null  object \n",
            " 3   categ_1  45000 non-null  int64  \n",
            " 4   num_0    45000 non-null  int64  \n",
            " 5   categ_2  45000 non-null  int64  \n",
            " 6   categ_4  45000 non-null  int64  \n",
            " 7   categ_5  45000 non-null  int64  \n",
            " 8   num_5    12584 non-null  float64\n",
            " 9   categ_8  45000 non-null  int64  \n",
            " 10  num_3    14534 non-null  float64\n",
            " 11  num_8    9241 non-null   float64\n",
            " 12  num_1    20797 non-null  object \n",
            " 13  num_9    3261 non-null   float64\n",
            " 14  txt_2    45000 non-null  object \n",
            " 15  date_0   45000 non-null  object \n",
            " 16  categ_9  45000 non-null  int64  \n",
            " 17  num_10   43464 non-null  float64\n",
            " 18  categ_6  45000 non-null  int64  \n",
            " 19  categ_7  45000 non-null  int64  \n",
            " 20  txt_3    45000 non-null  object \n",
            " 21  num_4    39724 non-null  float64\n",
            " 22  categ_3  45000 non-null  int64  \n",
            " 23  txt_1    45000 non-null  object \n",
            " 24  num_6    1682 non-null   float64\n",
            " 25  num_2    9326 non-null   float64\n",
            " 26  num_7    2312 non-null   float64\n",
            " 27  y        44999 non-null  float64\n",
            "dtypes: float64(10), int64(11), object(7)\n",
            "memory usage: 9.6+ MB\n"
          ]
        }
      ],
      "source": [
        "# Getting infos about our data: data types, missing values\n",
        "df.info()"
      ]
    },
    {
      "cell_type": "code",
      "execution_count": null,
      "metadata": {
        "colab": {
          "base_uri": "https://localhost:8080/"
        },
        "id": "lGs5OssTxyKX",
        "outputId": "afa676cb-81c6-4640-ce65-4f0f0b182a12"
      },
      "outputs": [
        {
          "data": {
            "text/plain": [
              "_id            0\n",
              "categ_0        0\n",
              "txt_0          0\n",
              "categ_1        0\n",
              "num_0          0\n",
              "categ_2        0\n",
              "categ_4        0\n",
              "categ_5        0\n",
              "num_5      32416\n",
              "categ_8        0\n",
              "num_3      30466\n",
              "num_8      35759\n",
              "num_1      24203\n",
              "num_9      41739\n",
              "txt_2          0\n",
              "date_0         0\n",
              "categ_9        0\n",
              "num_10      1536\n",
              "categ_6        0\n",
              "categ_7        0\n",
              "txt_3          0\n",
              "num_4       5276\n",
              "categ_3        0\n",
              "txt_1          0\n",
              "num_6      43318\n",
              "num_2      35674\n",
              "num_7      42688\n",
              "y              1\n",
              "dtype: int64"
            ]
          },
          "execution_count": 6,
          "metadata": {},
          "output_type": "execute_result"
        }
      ],
      "source": [
        "df.isnull().sum()"
      ]
    },
    {
      "cell_type": "code",
      "execution_count": null,
      "metadata": {
        "colab": {
          "base_uri": "https://localhost:8080/"
        },
        "id": "TPHqLEUeyG8N",
        "outputId": "743c863f-876b-4177-eb46-aae06e8da50a"
      },
      "outputs": [
        {
          "data": {
            "text/plain": [
              "0"
            ]
          },
          "execution_count": 7,
          "metadata": {},
          "output_type": "execute_result"
        }
      ],
      "source": [
        "df.duplicated().sum()"
      ]
    },
    {
      "cell_type": "markdown",
      "metadata": {
        "id": "Gi-RmvvbUsrR"
      },
      "source": [
        "### Data preparation"
      ]
    },
    {
      "cell_type": "code",
      "execution_count": null,
      "metadata": {
        "id": "Q5ts49OZb8nL"
      },
      "outputs": [],
      "source": [
        "# Data Imputation\n",
        "median_imputer = MeanMedianImputer(\n",
        "                   imputation_method='median')\n",
        "median_imputer.fit(df)\n",
        "df= median_imputer.transform(df)\n",
        "\n",
        "# Replace non numeric values in num_1 with None\n",
        "df.num_1 = df.num_1.replace(['- ch'], [None]).replace(['- kw (- ch)'], [None])\n",
        "\n",
        "# Impute num_1\n",
        "imputer = CategoricalImputer(variables=['num_1'],imputation_method='frequent')\n",
        "imputer.fit(df)\n",
        "df= imputer.transform(df)\n",
        "\n",
        "# Correct datatypes\n",
        "df.num_1 = df.num_1.astype('int64')\n",
        "df.date_0 = pd.to_datetime(df['date_0'])\n",
        "\n",
        "# Remove outliers\n",
        "outlier_remover = OutlierTrimmer(capping_method='iqr')\n",
        "#outlier_remover.fit(df)\n",
        "#df = outlier_remover.transform(df)"
      ]
    },
    {
      "cell_type": "code",
      "execution_count": null,
      "metadata": {
        "colab": {
          "base_uri": "https://localhost:8080/"
        },
        "id": "d3OGMvDIQ5mi",
        "outputId": "d23c4653-711f-4814-f451-118d399fedf5"
      },
      "outputs": [
        {
          "name": "stdout",
          "output_type": "stream",
          "text": [
            "<class 'pandas.core.frame.DataFrame'>\n",
            "RangeIndex: 45000 entries, 0 to 44999\n",
            "Data columns (total 28 columns):\n",
            " #   Column   Non-Null Count  Dtype         \n",
            "---  ------   --------------  -----         \n",
            " 0   _id      45000 non-null  object        \n",
            " 1   categ_0  45000 non-null  int64         \n",
            " 2   txt_0    45000 non-null  object        \n",
            " 3   categ_1  45000 non-null  int64         \n",
            " 4   num_0    45000 non-null  int64         \n",
            " 5   categ_2  45000 non-null  int64         \n",
            " 6   categ_4  45000 non-null  int64         \n",
            " 7   categ_5  45000 non-null  int64         \n",
            " 8   num_5    45000 non-null  float64       \n",
            " 9   categ_8  45000 non-null  int64         \n",
            " 10  num_3    45000 non-null  float64       \n",
            " 11  num_8    45000 non-null  float64       \n",
            " 12  num_1    45000 non-null  int64         \n",
            " 13  num_9    45000 non-null  float64       \n",
            " 14  txt_2    45000 non-null  object        \n",
            " 15  date_0   45000 non-null  datetime64[ns]\n",
            " 16  categ_9  45000 non-null  int64         \n",
            " 17  num_10   45000 non-null  float64       \n",
            " 18  categ_6  45000 non-null  int64         \n",
            " 19  categ_7  45000 non-null  int64         \n",
            " 20  txt_3    45000 non-null  object        \n",
            " 21  num_4    45000 non-null  float64       \n",
            " 22  categ_3  45000 non-null  int64         \n",
            " 23  txt_1    45000 non-null  object        \n",
            " 24  num_6    45000 non-null  float64       \n",
            " 25  num_2    45000 non-null  float64       \n",
            " 26  num_7    45000 non-null  float64       \n",
            " 27  y        45000 non-null  float64       \n",
            "dtypes: datetime64[ns](1), float64(10), int64(12), object(5)\n",
            "memory usage: 9.6+ MB\n"
          ]
        }
      ],
      "source": [
        "df.info()"
      ]
    },
    {
      "cell_type": "code",
      "execution_count": null,
      "metadata": {
        "id": "2mIbcInN8tU1"
      },
      "outputs": [],
      "source": [
        "# Choose target and features\n",
        "y = df.y\n",
        "\n",
        "X = df.drop(['y','_id'],axis=1)\n",
        "\n",
        "# Break off Validation set from training data\n",
        "X_train, X_val, y_train, y_val = train_test_split(X, y, train_size=0.8,\n",
        "                                                    test_size=0.2,\n",
        "                                                    random_state=100)"
      ]
    },
    {
      "cell_type": "markdown",
      "metadata": {
        "id": "n7ME5jIN1KZZ"
      },
      "source": [
        "### Preprocessing Pipeline"
      ]
    },
    {
      "cell_type": "code",
      "execution_count": null,
      "metadata": {
        "id": "e4_DR4q4VNiy"
      },
      "outputs": [],
      "source": [
        "# Preprocessing for numerical data\n",
        "#from feature_engine.creation import MathFeatures, RelativeFeatures,\n",
        "\n",
        "numerical_ix = X.select_dtypes(include=['int64', 'float64']).columns\n",
        "\n",
        "numerical_transformer = Pipeline(steps=[\n",
        "    ('power', vt.PowerTransformer(variables = None, exp=0.5)),\n",
        "    ('scaler', StandardScaler())\n",
        "\n",
        "])\n",
        "\n",
        "# Preprocessing for text data\n",
        "text_transformer = Pipeline(steps=[\n",
        "    ('tfidf',TfidfVectorizer(max_df=0.8, max_features=2000, min_df=0.01, sublinear_tf=True,\n",
        "                             use_idf=True, ngram_range=(1,1)))\n",
        "  ])\n",
        "\n",
        "# Preprocessing for Datetime Variable\n",
        "date_transformer= DatetimeFeatures(\n",
        "    variables=[\"date_0\"],\n",
        "    features_to_extract=[\"month\", \"year\"]\n",
        ")\n",
        "\n",
        "# Define data transformer\n",
        "preprocessor = ColumnTransformer(\n",
        "    transformers=[\n",
        "          # Extract features from Datetime variable\n",
        "          ('date',date_transformer ,['date_0']),\n",
        "\n",
        "          # Extract features from text variables\n",
        "          ('text_0', text_transformer, 'txt_0'),\n",
        "          ('text_1', text_transformer, 'txt_1'),\n",
        "          ('text_2', text_transformer, 'txt_2'),\n",
        "         #('text_3', text_transformer, 'txt_3'),  #text_3 gets dropped in preprocess_pipe\n",
        "\n",
        "          # Preprocess numerical variables\n",
        "          ('num',numerical_transformer, make_column_selector(dtype_include=['int64','float64']))\n",
        "\n",
        "])\n",
        "\n",
        "# Preprocessing Pipeline\n",
        "preprocess_pipe = Pipeline(steps=[\n",
        "       # Drop irrelevent columns\n",
        "       ('drop_constant_values', DropConstantFeatures()),\n",
        "       ('drop_duplicates', DropDuplicateFeatures()),\n",
        "       # Preprocessing\n",
        "       ('prep',preprocessor)\n",
        "\n",
        "])\n"
      ]
    },
    {
      "cell_type": "markdown",
      "metadata": {
        "id": "lgRdQCHN1U46"
      },
      "source": [
        "### Feature Engineering Pipeline"
      ]
    },
    {
      "cell_type": "code",
      "execution_count": null,
      "metadata": {
        "id": "svW9usTNVObV"
      },
      "outputs": [],
      "source": [
        "FE_pipe = Pipeline(steps=[\n",
        "       # Create Polynomial features\n",
        "       ('poly', PolynomialFeatures(degree= 2, include_bias=False))\n",
        "])\n"
      ]
    },
    {
      "cell_type": "markdown",
      "metadata": {
        "id": "LM7P3yfD1afo"
      },
      "source": [
        "### ML Pipeline"
      ]
    },
    {
      "cell_type": "code",
      "execution_count": null,
      "metadata": {
        "colab": {
          "background_save": true,
          "base_uri": "https://localhost:8080/"
        },
        "id": "kKaYP28cVQPt",
        "outputId": "439719bc-f67d-4afb-cc8a-445f000cf8f0"
      },
      "outputs": [
        {
          "name": "stdout",
          "output_type": "stream",
          "text": [
            "RandomForestRegressor()\n",
            "\tMean absolute error: 1766.070626827289\n",
            "\tR2 score: 0.9001814489697529\n",
            "\tAdjusted R2 score: 0.900112080432038\n",
            "\tRMSE: 3101.065949\n"
          ]
        }
      ],
      "source": [
        "# Regressor\n",
        "\n",
        "regressor = RandomForestRegressor()        # 0.92 /0.948/0.949/0.956/0.964  / 0.934\n",
        "\n",
        "# Wrapped model\n",
        "wrapped_model = TransformedTargetRegressor(regressor= regressor, transformer = StandardScaler())\n",
        "\n",
        "# ML pipeline\n",
        "ML_pipe = Pipeline(steps=[\n",
        "\n",
        "        # Reduce Dimensionality\n",
        "        ('TruncatedSVD',TruncatedSVD(algorithm='randomized',n_components=100,\n",
        "                                     n_iter=7, random_state=42)),\n",
        "\n",
        "        # Select features\n",
        "        ('selector', SmartCorrelatedSelection(   variables=None, method=\"pearson\",\n",
        "                                                threshold=0.8,missing_values=\"ignore\",\n",
        "                                                selection_method=\"model_performance\",\n",
        "                                               scoring='r2', estimator=RandomForestRegressor(),\n",
        "                                           )),\n",
        "        # Model\n",
        "        ('model', wrapped_model)\n",
        "])\n",
        "\n",
        "# Pipeline\n",
        "pipe = Pipeline([\n",
        "\n",
        "    # Step 1: Preprocessing\n",
        "    ('Preprocessing', preprocess_pipe),\n",
        "    # Step 2: Create polynomial features\n",
        "    ('Feature_Engineering', FE_pipe),\n",
        "    # Model\n",
        "    ('ML', ML_pipe)\n",
        "\n",
        "])\n",
        "\n",
        "print(regressor)\n",
        "# Preprocessing of training data, fit model\n",
        "pipe.fit(X_train, y_train)\n",
        "\n",
        "# Preprocessing of Validation data, get predictions\n",
        "y_pred_val = pipe.predict(X_val)\n",
        "\n",
        "# Performance evaluation\n",
        "\n",
        "# Mean Absolute Error\n",
        "print(\"\\tMean absolute error:\", mean_absolute_error(y_val, y_pred_val ))\n",
        "\n",
        "# R Squared & Adjusted R Squared\n",
        "r2 = r2_score(y_val, y_pred_val)\n",
        "adj_r2 = 1 - (1-r2)*(len(X_train) - 1) / (len(X_train) - (X_train.shape[1] - 1) - 1)\n",
        "print(\"\\tR2 score:\", r2)\n",
        "print(\"\\tAdjusted R2 score:\", adj_r2)\n",
        "\n",
        "# Root Mean Squared Error\n",
        "mse = mean_squared_error(y_val, y_pred_val)\n",
        "rmse = math.sqrt(mse)\n",
        "print('\\tRMSE: %f' % rmse)"
      ]
    },
    {
      "cell_type": "code",
      "execution_count": 14,
      "metadata": {
        "colab": {
          "base_uri": "https://localhost:8080/",
          "height": 654
        },
        "id": "EOuu0Qo5NrvU",
        "outputId": "440d9b75-f6c0-47d7-ba2e-5f11fa1dbe8d"
      },
      "outputs": [
        {
          "output_type": "display_data",
          "data": {
            "text/plain": [
              "Pipeline(steps=[('Preprocessing',\n",
              "                 Pipeline(steps=[('drop_constant_values',\n",
              "                                  DropConstantFeatures()),\n",
              "                                 ('drop_duplicates', DropDuplicateFeatures()),\n",
              "                                 ('prep',\n",
              "                                  ColumnTransformer(transformers=[('date',\n",
              "                                                                   DatetimeFeatures(features_to_extract=['month',\n",
              "                                                                                                         'year'],\n",
              "                                                                                    variables=['date_0']),\n",
              "                                                                   ['date_0']),\n",
              "                                                                  ('text_0',\n",
              "                                                                   Pipeline(steps=[('tfidf',\n",
              "                                                                                    TfidfVectorizer(max_df=0.8,\n",
              "                                                                                                    max_feature...\n",
              "                                  PolynomialFeatures(include_bias=False))])),\n",
              "                ('ML',\n",
              "                 Pipeline(steps=[('TruncatedSVD',\n",
              "                                  TruncatedSVD(n_components=100, n_iter=7,\n",
              "                                               random_state=42)),\n",
              "                                 ('selector',\n",
              "                                  SmartCorrelatedSelection(estimator=RandomForestRegressor(),\n",
              "                                                           scoring='r2',\n",
              "                                                           selection_method='model_performance')),\n",
              "                                 ('model',\n",
              "                                  TransformedTargetRegressor(regressor=RandomForestRegressor(),\n",
              "                                                             transformer=StandardScaler()))]))])"
            ],
            "text/html": [
              "<style>#sk-container-id-1 {color: black;background-color: white;}#sk-container-id-1 pre{padding: 0;}#sk-container-id-1 div.sk-toggleable {background-color: white;}#sk-container-id-1 label.sk-toggleable__label {cursor: pointer;display: block;width: 100%;margin-bottom: 0;padding: 0.3em;box-sizing: border-box;text-align: center;}#sk-container-id-1 label.sk-toggleable__label-arrow:before {content: \"▸\";float: left;margin-right: 0.25em;color: #696969;}#sk-container-id-1 label.sk-toggleable__label-arrow:hover:before {color: black;}#sk-container-id-1 div.sk-estimator:hover label.sk-toggleable__label-arrow:before {color: black;}#sk-container-id-1 div.sk-toggleable__content {max-height: 0;max-width: 0;overflow: hidden;text-align: left;background-color: #f0f8ff;}#sk-container-id-1 div.sk-toggleable__content pre {margin: 0.2em;color: black;border-radius: 0.25em;background-color: #f0f8ff;}#sk-container-id-1 input.sk-toggleable__control:checked~div.sk-toggleable__content {max-height: 200px;max-width: 100%;overflow: auto;}#sk-container-id-1 input.sk-toggleable__control:checked~label.sk-toggleable__label-arrow:before {content: \"▾\";}#sk-container-id-1 div.sk-estimator input.sk-toggleable__control:checked~label.sk-toggleable__label {background-color: #d4ebff;}#sk-container-id-1 div.sk-label input.sk-toggleable__control:checked~label.sk-toggleable__label {background-color: #d4ebff;}#sk-container-id-1 input.sk-hidden--visually {border: 0;clip: rect(1px 1px 1px 1px);clip: rect(1px, 1px, 1px, 1px);height: 1px;margin: -1px;overflow: hidden;padding: 0;position: absolute;width: 1px;}#sk-container-id-1 div.sk-estimator {font-family: monospace;background-color: #f0f8ff;border: 1px dotted black;border-radius: 0.25em;box-sizing: border-box;margin-bottom: 0.5em;}#sk-container-id-1 div.sk-estimator:hover {background-color: #d4ebff;}#sk-container-id-1 div.sk-parallel-item::after {content: \"\";width: 100%;border-bottom: 1px solid gray;flex-grow: 1;}#sk-container-id-1 div.sk-label:hover label.sk-toggleable__label {background-color: #d4ebff;}#sk-container-id-1 div.sk-serial::before {content: \"\";position: absolute;border-left: 1px solid gray;box-sizing: border-box;top: 0;bottom: 0;left: 50%;z-index: 0;}#sk-container-id-1 div.sk-serial {display: flex;flex-direction: column;align-items: center;background-color: white;padding-right: 0.2em;padding-left: 0.2em;position: relative;}#sk-container-id-1 div.sk-item {position: relative;z-index: 1;}#sk-container-id-1 div.sk-parallel {display: flex;align-items: stretch;justify-content: center;background-color: white;position: relative;}#sk-container-id-1 div.sk-item::before, #sk-container-id-1 div.sk-parallel-item::before {content: \"\";position: absolute;border-left: 1px solid gray;box-sizing: border-box;top: 0;bottom: 0;left: 50%;z-index: -1;}#sk-container-id-1 div.sk-parallel-item {display: flex;flex-direction: column;z-index: 1;position: relative;background-color: white;}#sk-container-id-1 div.sk-parallel-item:first-child::after {align-self: flex-end;width: 50%;}#sk-container-id-1 div.sk-parallel-item:last-child::after {align-self: flex-start;width: 50%;}#sk-container-id-1 div.sk-parallel-item:only-child::after {width: 0;}#sk-container-id-1 div.sk-dashed-wrapped {border: 1px dashed gray;margin: 0 0.4em 0.5em 0.4em;box-sizing: border-box;padding-bottom: 0.4em;background-color: white;}#sk-container-id-1 div.sk-label label {font-family: monospace;font-weight: bold;display: inline-block;line-height: 1.2em;}#sk-container-id-1 div.sk-label-container {text-align: center;}#sk-container-id-1 div.sk-container {/* jupyter's `normalize.less` sets `[hidden] { display: none; }` but bootstrap.min.css set `[hidden] { display: none !important; }` so we also need the `!important` here to be able to override the default hidden behavior on the sphinx rendered scikit-learn.org. See: https://github.com/scikit-learn/scikit-learn/issues/21755 */display: inline-block !important;position: relative;}#sk-container-id-1 div.sk-text-repr-fallback {display: none;}</style><div id=\"sk-container-id-1\" class=\"sk-top-container\"><div class=\"sk-text-repr-fallback\"><pre>Pipeline(steps=[(&#x27;Preprocessing&#x27;,\n",
              "                 Pipeline(steps=[(&#x27;drop_constant_values&#x27;,\n",
              "                                  DropConstantFeatures()),\n",
              "                                 (&#x27;drop_duplicates&#x27;, DropDuplicateFeatures()),\n",
              "                                 (&#x27;prep&#x27;,\n",
              "                                  ColumnTransformer(transformers=[(&#x27;date&#x27;,\n",
              "                                                                   DatetimeFeatures(features_to_extract=[&#x27;month&#x27;,\n",
              "                                                                                                         &#x27;year&#x27;],\n",
              "                                                                                    variables=[&#x27;date_0&#x27;]),\n",
              "                                                                   [&#x27;date_0&#x27;]),\n",
              "                                                                  (&#x27;text_0&#x27;,\n",
              "                                                                   Pipeline(steps=[(&#x27;tfidf&#x27;,\n",
              "                                                                                    TfidfVectorizer(max_df=0.8,\n",
              "                                                                                                    max_feature...\n",
              "                                  PolynomialFeatures(include_bias=False))])),\n",
              "                (&#x27;ML&#x27;,\n",
              "                 Pipeline(steps=[(&#x27;TruncatedSVD&#x27;,\n",
              "                                  TruncatedSVD(n_components=100, n_iter=7,\n",
              "                                               random_state=42)),\n",
              "                                 (&#x27;selector&#x27;,\n",
              "                                  SmartCorrelatedSelection(estimator=RandomForestRegressor(),\n",
              "                                                           scoring=&#x27;r2&#x27;,\n",
              "                                                           selection_method=&#x27;model_performance&#x27;)),\n",
              "                                 (&#x27;model&#x27;,\n",
              "                                  TransformedTargetRegressor(regressor=RandomForestRegressor(),\n",
              "                                                             transformer=StandardScaler()))]))])</pre><b>In a Jupyter environment, please rerun this cell to show the HTML representation or trust the notebook. <br />On GitHub, the HTML representation is unable to render, please try loading this page with nbviewer.org.</b></div><div class=\"sk-container\" hidden><div class=\"sk-item sk-dashed-wrapped\"><div class=\"sk-label-container\"><div class=\"sk-label sk-toggleable\"><input class=\"sk-toggleable__control sk-hidden--visually\" id=\"sk-estimator-id-1\" type=\"checkbox\" ><label for=\"sk-estimator-id-1\" class=\"sk-toggleable__label sk-toggleable__label-arrow\">Pipeline</label><div class=\"sk-toggleable__content\"><pre>Pipeline(steps=[(&#x27;Preprocessing&#x27;,\n",
              "                 Pipeline(steps=[(&#x27;drop_constant_values&#x27;,\n",
              "                                  DropConstantFeatures()),\n",
              "                                 (&#x27;drop_duplicates&#x27;, DropDuplicateFeatures()),\n",
              "                                 (&#x27;prep&#x27;,\n",
              "                                  ColumnTransformer(transformers=[(&#x27;date&#x27;,\n",
              "                                                                   DatetimeFeatures(features_to_extract=[&#x27;month&#x27;,\n",
              "                                                                                                         &#x27;year&#x27;],\n",
              "                                                                                    variables=[&#x27;date_0&#x27;]),\n",
              "                                                                   [&#x27;date_0&#x27;]),\n",
              "                                                                  (&#x27;text_0&#x27;,\n",
              "                                                                   Pipeline(steps=[(&#x27;tfidf&#x27;,\n",
              "                                                                                    TfidfVectorizer(max_df=0.8,\n",
              "                                                                                                    max_feature...\n",
              "                                  PolynomialFeatures(include_bias=False))])),\n",
              "                (&#x27;ML&#x27;,\n",
              "                 Pipeline(steps=[(&#x27;TruncatedSVD&#x27;,\n",
              "                                  TruncatedSVD(n_components=100, n_iter=7,\n",
              "                                               random_state=42)),\n",
              "                                 (&#x27;selector&#x27;,\n",
              "                                  SmartCorrelatedSelection(estimator=RandomForestRegressor(),\n",
              "                                                           scoring=&#x27;r2&#x27;,\n",
              "                                                           selection_method=&#x27;model_performance&#x27;)),\n",
              "                                 (&#x27;model&#x27;,\n",
              "                                  TransformedTargetRegressor(regressor=RandomForestRegressor(),\n",
              "                                                             transformer=StandardScaler()))]))])</pre></div></div></div><div class=\"sk-serial\"><div class=\"sk-item\"><div class=\"sk-label-container\"><div class=\"sk-label sk-toggleable\"><input class=\"sk-toggleable__control sk-hidden--visually\" id=\"sk-estimator-id-2\" type=\"checkbox\" ><label for=\"sk-estimator-id-2\" class=\"sk-toggleable__label sk-toggleable__label-arrow\">Preprocessing: Pipeline</label><div class=\"sk-toggleable__content\"><pre>Pipeline(steps=[(&#x27;drop_constant_values&#x27;, DropConstantFeatures()),\n",
              "                (&#x27;drop_duplicates&#x27;, DropDuplicateFeatures()),\n",
              "                (&#x27;prep&#x27;,\n",
              "                 ColumnTransformer(transformers=[(&#x27;date&#x27;,\n",
              "                                                  DatetimeFeatures(features_to_extract=[&#x27;month&#x27;,\n",
              "                                                                                        &#x27;year&#x27;],\n",
              "                                                                   variables=[&#x27;date_0&#x27;]),\n",
              "                                                  [&#x27;date_0&#x27;]),\n",
              "                                                 (&#x27;text_0&#x27;,\n",
              "                                                  Pipeline(steps=[(&#x27;tfidf&#x27;,\n",
              "                                                                   TfidfVectorizer(max_df=0.8,\n",
              "                                                                                   max_features=2000,\n",
              "                                                                                   min_df=0.01,\n",
              "                                                                                   sublinear_tf=T...\n",
              "                                                                                   max_features=2000,\n",
              "                                                                                   min_df=0.01,\n",
              "                                                                                   sublinear_tf=True))]),\n",
              "                                                  &#x27;txt_1&#x27;),\n",
              "                                                 (&#x27;text_2&#x27;,\n",
              "                                                  Pipeline(steps=[(&#x27;tfidf&#x27;,\n",
              "                                                                   TfidfVectorizer(max_df=0.8,\n",
              "                                                                                   max_features=2000,\n",
              "                                                                                   min_df=0.01,\n",
              "                                                                                   sublinear_tf=True))]),\n",
              "                                                  &#x27;txt_2&#x27;),\n",
              "                                                 (&#x27;num&#x27;,\n",
              "                                                  Pipeline(steps=[(&#x27;power&#x27;,\n",
              "                                                                   PowerTransformer()),\n",
              "                                                                  (&#x27;scaler&#x27;,\n",
              "                                                                   StandardScaler())]),\n",
              "                                                  &lt;sklearn.compose._column_transformer.make_column_selector object at 0x7a96790a9ab0&gt;)]))])</pre></div></div></div><div class=\"sk-serial\"><div class=\"sk-item\"><div class=\"sk-estimator sk-toggleable\"><input class=\"sk-toggleable__control sk-hidden--visually\" id=\"sk-estimator-id-3\" type=\"checkbox\" ><label for=\"sk-estimator-id-3\" class=\"sk-toggleable__label sk-toggleable__label-arrow\">DropConstantFeatures</label><div class=\"sk-toggleable__content\"><pre>DropConstantFeatures()</pre></div></div></div><div class=\"sk-item\"><div class=\"sk-estimator sk-toggleable\"><input class=\"sk-toggleable__control sk-hidden--visually\" id=\"sk-estimator-id-4\" type=\"checkbox\" ><label for=\"sk-estimator-id-4\" class=\"sk-toggleable__label sk-toggleable__label-arrow\">DropDuplicateFeatures</label><div class=\"sk-toggleable__content\"><pre>DropDuplicateFeatures()</pre></div></div></div><div class=\"sk-item sk-dashed-wrapped\"><div class=\"sk-label-container\"><div class=\"sk-label sk-toggleable\"><input class=\"sk-toggleable__control sk-hidden--visually\" id=\"sk-estimator-id-5\" type=\"checkbox\" ><label for=\"sk-estimator-id-5\" class=\"sk-toggleable__label sk-toggleable__label-arrow\">prep: ColumnTransformer</label><div class=\"sk-toggleable__content\"><pre>ColumnTransformer(transformers=[(&#x27;date&#x27;,\n",
              "                                 DatetimeFeatures(features_to_extract=[&#x27;month&#x27;,\n",
              "                                                                       &#x27;year&#x27;],\n",
              "                                                  variables=[&#x27;date_0&#x27;]),\n",
              "                                 [&#x27;date_0&#x27;]),\n",
              "                                (&#x27;text_0&#x27;,\n",
              "                                 Pipeline(steps=[(&#x27;tfidf&#x27;,\n",
              "                                                  TfidfVectorizer(max_df=0.8,\n",
              "                                                                  max_features=2000,\n",
              "                                                                  min_df=0.01,\n",
              "                                                                  sublinear_tf=True))]),\n",
              "                                 &#x27;txt_0&#x27;),\n",
              "                                (&#x27;text_1&#x27;,\n",
              "                                 Pipeline(steps=[(&#x27;tfidf&#x27;,\n",
              "                                                  TfidfVectorizer(max_df=0.8,\n",
              "                                                                  max_features=2000,\n",
              "                                                                  min_df=0.01,\n",
              "                                                                  sublinear_tf=True))]),\n",
              "                                 &#x27;txt_1&#x27;),\n",
              "                                (&#x27;text_2&#x27;,\n",
              "                                 Pipeline(steps=[(&#x27;tfidf&#x27;,\n",
              "                                                  TfidfVectorizer(max_df=0.8,\n",
              "                                                                  max_features=2000,\n",
              "                                                                  min_df=0.01,\n",
              "                                                                  sublinear_tf=True))]),\n",
              "                                 &#x27;txt_2&#x27;),\n",
              "                                (&#x27;num&#x27;,\n",
              "                                 Pipeline(steps=[(&#x27;power&#x27;, PowerTransformer()),\n",
              "                                                 (&#x27;scaler&#x27;, StandardScaler())]),\n",
              "                                 &lt;sklearn.compose._column_transformer.make_column_selector object at 0x7a96790a9ab0&gt;)])</pre></div></div></div><div class=\"sk-parallel\"><div class=\"sk-parallel-item\"><div class=\"sk-item\"><div class=\"sk-label-container\"><div class=\"sk-label sk-toggleable\"><input class=\"sk-toggleable__control sk-hidden--visually\" id=\"sk-estimator-id-6\" type=\"checkbox\" ><label for=\"sk-estimator-id-6\" class=\"sk-toggleable__label sk-toggleable__label-arrow\">date</label><div class=\"sk-toggleable__content\"><pre>[&#x27;date_0&#x27;]</pre></div></div></div><div class=\"sk-serial\"><div class=\"sk-item\"><div class=\"sk-estimator sk-toggleable\"><input class=\"sk-toggleable__control sk-hidden--visually\" id=\"sk-estimator-id-7\" type=\"checkbox\" ><label for=\"sk-estimator-id-7\" class=\"sk-toggleable__label sk-toggleable__label-arrow\">DatetimeFeatures</label><div class=\"sk-toggleable__content\"><pre>DatetimeFeatures(features_to_extract=[&#x27;month&#x27;, &#x27;year&#x27;], variables=[&#x27;date_0&#x27;])</pre></div></div></div></div></div></div><div class=\"sk-parallel-item\"><div class=\"sk-item\"><div class=\"sk-label-container\"><div class=\"sk-label sk-toggleable\"><input class=\"sk-toggleable__control sk-hidden--visually\" id=\"sk-estimator-id-8\" type=\"checkbox\" ><label for=\"sk-estimator-id-8\" class=\"sk-toggleable__label sk-toggleable__label-arrow\">text_0</label><div class=\"sk-toggleable__content\"><pre>txt_0</pre></div></div></div><div class=\"sk-serial\"><div class=\"sk-item\"><div class=\"sk-serial\"><div class=\"sk-item\"><div class=\"sk-estimator sk-toggleable\"><input class=\"sk-toggleable__control sk-hidden--visually\" id=\"sk-estimator-id-9\" type=\"checkbox\" ><label for=\"sk-estimator-id-9\" class=\"sk-toggleable__label sk-toggleable__label-arrow\">TfidfVectorizer</label><div class=\"sk-toggleable__content\"><pre>TfidfVectorizer(max_df=0.8, max_features=2000, min_df=0.01, sublinear_tf=True)</pre></div></div></div></div></div></div></div></div><div class=\"sk-parallel-item\"><div class=\"sk-item\"><div class=\"sk-label-container\"><div class=\"sk-label sk-toggleable\"><input class=\"sk-toggleable__control sk-hidden--visually\" id=\"sk-estimator-id-10\" type=\"checkbox\" ><label for=\"sk-estimator-id-10\" class=\"sk-toggleable__label sk-toggleable__label-arrow\">text_1</label><div class=\"sk-toggleable__content\"><pre>txt_1</pre></div></div></div><div class=\"sk-serial\"><div class=\"sk-item\"><div class=\"sk-serial\"><div class=\"sk-item\"><div class=\"sk-estimator sk-toggleable\"><input class=\"sk-toggleable__control sk-hidden--visually\" id=\"sk-estimator-id-11\" type=\"checkbox\" ><label for=\"sk-estimator-id-11\" class=\"sk-toggleable__label sk-toggleable__label-arrow\">TfidfVectorizer</label><div class=\"sk-toggleable__content\"><pre>TfidfVectorizer(max_df=0.8, max_features=2000, min_df=0.01, sublinear_tf=True)</pre></div></div></div></div></div></div></div></div><div class=\"sk-parallel-item\"><div class=\"sk-item\"><div class=\"sk-label-container\"><div class=\"sk-label sk-toggleable\"><input class=\"sk-toggleable__control sk-hidden--visually\" id=\"sk-estimator-id-12\" type=\"checkbox\" ><label for=\"sk-estimator-id-12\" class=\"sk-toggleable__label sk-toggleable__label-arrow\">text_2</label><div class=\"sk-toggleable__content\"><pre>txt_2</pre></div></div></div><div class=\"sk-serial\"><div class=\"sk-item\"><div class=\"sk-serial\"><div class=\"sk-item\"><div class=\"sk-estimator sk-toggleable\"><input class=\"sk-toggleable__control sk-hidden--visually\" id=\"sk-estimator-id-13\" type=\"checkbox\" ><label for=\"sk-estimator-id-13\" class=\"sk-toggleable__label sk-toggleable__label-arrow\">TfidfVectorizer</label><div class=\"sk-toggleable__content\"><pre>TfidfVectorizer(max_df=0.8, max_features=2000, min_df=0.01, sublinear_tf=True)</pre></div></div></div></div></div></div></div></div><div class=\"sk-parallel-item\"><div class=\"sk-item\"><div class=\"sk-label-container\"><div class=\"sk-label sk-toggleable\"><input class=\"sk-toggleable__control sk-hidden--visually\" id=\"sk-estimator-id-14\" type=\"checkbox\" ><label for=\"sk-estimator-id-14\" class=\"sk-toggleable__label sk-toggleable__label-arrow\">num</label><div class=\"sk-toggleable__content\"><pre>&lt;sklearn.compose._column_transformer.make_column_selector object at 0x7a96790a9ab0&gt;</pre></div></div></div><div class=\"sk-serial\"><div class=\"sk-item\"><div class=\"sk-serial\"><div class=\"sk-item\"><div class=\"sk-estimator sk-toggleable\"><input class=\"sk-toggleable__control sk-hidden--visually\" id=\"sk-estimator-id-15\" type=\"checkbox\" ><label for=\"sk-estimator-id-15\" class=\"sk-toggleable__label sk-toggleable__label-arrow\">PowerTransformer</label><div class=\"sk-toggleable__content\"><pre>PowerTransformer()</pre></div></div></div><div class=\"sk-item\"><div class=\"sk-estimator sk-toggleable\"><input class=\"sk-toggleable__control sk-hidden--visually\" id=\"sk-estimator-id-16\" type=\"checkbox\" ><label for=\"sk-estimator-id-16\" class=\"sk-toggleable__label sk-toggleable__label-arrow\">StandardScaler</label><div class=\"sk-toggleable__content\"><pre>StandardScaler()</pre></div></div></div></div></div></div></div></div></div></div></div></div><div class=\"sk-item\"><div class=\"sk-label-container\"><div class=\"sk-label sk-toggleable\"><input class=\"sk-toggleable__control sk-hidden--visually\" id=\"sk-estimator-id-17\" type=\"checkbox\" ><label for=\"sk-estimator-id-17\" class=\"sk-toggleable__label sk-toggleable__label-arrow\">Feature_Engineering: Pipeline</label><div class=\"sk-toggleable__content\"><pre>Pipeline(steps=[(&#x27;poly&#x27;, PolynomialFeatures(include_bias=False))])</pre></div></div></div><div class=\"sk-serial\"><div class=\"sk-item\"><div class=\"sk-estimator sk-toggleable\"><input class=\"sk-toggleable__control sk-hidden--visually\" id=\"sk-estimator-id-18\" type=\"checkbox\" ><label for=\"sk-estimator-id-18\" class=\"sk-toggleable__label sk-toggleable__label-arrow\">PolynomialFeatures</label><div class=\"sk-toggleable__content\"><pre>PolynomialFeatures(include_bias=False)</pre></div></div></div></div></div><div class=\"sk-item\"><div class=\"sk-label-container\"><div class=\"sk-label sk-toggleable\"><input class=\"sk-toggleable__control sk-hidden--visually\" id=\"sk-estimator-id-19\" type=\"checkbox\" ><label for=\"sk-estimator-id-19\" class=\"sk-toggleable__label sk-toggleable__label-arrow\">ML: Pipeline</label><div class=\"sk-toggleable__content\"><pre>Pipeline(steps=[(&#x27;TruncatedSVD&#x27;,\n",
              "                 TruncatedSVD(n_components=100, n_iter=7, random_state=42)),\n",
              "                (&#x27;selector&#x27;,\n",
              "                 SmartCorrelatedSelection(estimator=RandomForestRegressor(),\n",
              "                                          scoring=&#x27;r2&#x27;,\n",
              "                                          selection_method=&#x27;model_performance&#x27;)),\n",
              "                (&#x27;model&#x27;,\n",
              "                 TransformedTargetRegressor(regressor=RandomForestRegressor(),\n",
              "                                            transformer=StandardScaler()))])</pre></div></div></div><div class=\"sk-serial\"><div class=\"sk-item\"><div class=\"sk-estimator sk-toggleable\"><input class=\"sk-toggleable__control sk-hidden--visually\" id=\"sk-estimator-id-20\" type=\"checkbox\" ><label for=\"sk-estimator-id-20\" class=\"sk-toggleable__label sk-toggleable__label-arrow\">TruncatedSVD</label><div class=\"sk-toggleable__content\"><pre>TruncatedSVD(n_components=100, n_iter=7, random_state=42)</pre></div></div></div><div class=\"sk-item sk-dashed-wrapped\"><div class=\"sk-label-container\"><div class=\"sk-label sk-toggleable\"><input class=\"sk-toggleable__control sk-hidden--visually\" id=\"sk-estimator-id-21\" type=\"checkbox\" ><label for=\"sk-estimator-id-21\" class=\"sk-toggleable__label sk-toggleable__label-arrow\">selector: SmartCorrelatedSelection</label><div class=\"sk-toggleable__content\"><pre>SmartCorrelatedSelection(estimator=RandomForestRegressor(), scoring=&#x27;r2&#x27;,\n",
              "                         selection_method=&#x27;model_performance&#x27;)</pre></div></div></div><div class=\"sk-parallel\"><div class=\"sk-parallel-item\"><div class=\"sk-item\"><div class=\"sk-label-container\"><div class=\"sk-label sk-toggleable\"><input class=\"sk-toggleable__control sk-hidden--visually\" id=\"sk-estimator-id-22\" type=\"checkbox\" ><label for=\"sk-estimator-id-22\" class=\"sk-toggleable__label sk-toggleable__label-arrow\">estimator: RandomForestRegressor</label><div class=\"sk-toggleable__content\"><pre>RandomForestRegressor()</pre></div></div></div><div class=\"sk-serial\"><div class=\"sk-item\"><div class=\"sk-estimator sk-toggleable\"><input class=\"sk-toggleable__control sk-hidden--visually\" id=\"sk-estimator-id-23\" type=\"checkbox\" ><label for=\"sk-estimator-id-23\" class=\"sk-toggleable__label sk-toggleable__label-arrow\">RandomForestRegressor</label><div class=\"sk-toggleable__content\"><pre>RandomForestRegressor()</pre></div></div></div></div></div></div></div></div><div class=\"sk-item sk-dashed-wrapped\"><div class=\"sk-label-container\"><div class=\"sk-label sk-toggleable\"><input class=\"sk-toggleable__control sk-hidden--visually\" id=\"sk-estimator-id-24\" type=\"checkbox\" ><label for=\"sk-estimator-id-24\" class=\"sk-toggleable__label sk-toggleable__label-arrow\">model: TransformedTargetRegressor</label><div class=\"sk-toggleable__content\"><pre>TransformedTargetRegressor(regressor=RandomForestRegressor(),\n",
              "                           transformer=StandardScaler())</pre></div></div></div><div class=\"sk-parallel\"><div class=\"sk-parallel-item\"><div class=\"sk-item\"><div class=\"sk-label-container\"><div class=\"sk-label sk-toggleable\"><input class=\"sk-toggleable__control sk-hidden--visually\" id=\"sk-estimator-id-25\" type=\"checkbox\" ><label for=\"sk-estimator-id-25\" class=\"sk-toggleable__label sk-toggleable__label-arrow\">regressor: RandomForestRegressor</label><div class=\"sk-toggleable__content\"><pre>RandomForestRegressor()</pre></div></div></div><div class=\"sk-serial\"><div class=\"sk-item\"><div class=\"sk-estimator sk-toggleable\"><input class=\"sk-toggleable__control sk-hidden--visually\" id=\"sk-estimator-id-26\" type=\"checkbox\" ><label for=\"sk-estimator-id-26\" class=\"sk-toggleable__label sk-toggleable__label-arrow\">RandomForestRegressor</label><div class=\"sk-toggleable__content\"><pre>RandomForestRegressor()</pre></div></div></div></div></div></div><div class=\"sk-parallel-item\"><div class=\"sk-item\"><div class=\"sk-label-container\"><div class=\"sk-label sk-toggleable\"><input class=\"sk-toggleable__control sk-hidden--visually\" id=\"sk-estimator-id-27\" type=\"checkbox\" ><label for=\"sk-estimator-id-27\" class=\"sk-toggleable__label sk-toggleable__label-arrow\">transformer: StandardScaler</label><div class=\"sk-toggleable__content\"><pre>StandardScaler()</pre></div></div></div><div class=\"sk-serial\"><div class=\"sk-item\"><div class=\"sk-estimator sk-toggleable\"><input class=\"sk-toggleable__control sk-hidden--visually\" id=\"sk-estimator-id-28\" type=\"checkbox\" ><label for=\"sk-estimator-id-28\" class=\"sk-toggleable__label sk-toggleable__label-arrow\">StandardScaler</label><div class=\"sk-toggleable__content\"><pre>StandardScaler()</pre></div></div></div></div></div></div></div></div></div></div></div></div></div></div>"
            ]
          },
          "metadata": {}
        }
      ],
      "source": [
        "from sklearn import set_config\n",
        "set_config(display='diagram')\n",
        "display(pipe)"
      ]
    },
    {
      "cell_type": "code",
      "execution_count": null,
      "metadata": {
        "id": "AQFYK8qixXVs"
      },
      "outputs": [],
      "source": [
        "from sklearn.model_selection import GridSearchCV\n",
        "\n",
        "# Number of trees in random forest\n",
        "n_estimators = [int(x) for x in np.linspace(start = 200, stop = 2000, num = 10)]\n",
        "\n",
        "# Number of features to consider at every split\n",
        "max_features = ['auto', 'sqrt']\n",
        "\n",
        "# Maximum number of levels in tree\n",
        "max_depth = [int(x) for x in np.linspace(10, 110, num = 11)]\n",
        "max_depth.append(None)\n",
        "\n",
        "# Minimum number of samples required to split a node\n",
        "min_samples_split = [2, 5, 10]\n",
        "\n",
        "# Minimum number of samples required at each leaf node\n",
        "min_samples_leaf = [1, 2, 4]\n",
        "\n",
        "# Method of selecting samples for training each tree\n",
        "bootstrap = [True, False]\n",
        "\n",
        "# Create the param grid\n",
        "parameters = {'ML__model__regressor__n_estimators': n_estimators,\n",
        "               'ML__model__regressor__max_features': max_features,\n",
        "               'ML__model__regressor__max_depth': max_depth,\n",
        "               'ML__model__regressor__min_samples_split': min_samples_split,\n",
        "               'ML__model__regressor__min_samples_leaf': min_samples_leaf,\n",
        "               'ML__model__regressor__bootstrap': bootstrap}\n",
        "\n",
        "estimator = GridSearchCV(pipe, param_grid = parameters, cv = 2, n_jobs=-1)\n",
        "estimator.fit(X_train, y_train)\n",
        "print(estimator.score(X_val,y_val))\n",
        "print(estimator.best_params_,'\\n')\n",
        "print(estimator.best_estimator_,'\\n')\n",
        "\n",
        "# --> best estimator ="
      ]
    },
    {
      "cell_type": "markdown",
      "metadata": {
        "id": "RfKrQgKqPzW1"
      },
      "source": [
        "### Predicting"
      ]
    },
    {
      "cell_type": "code",
      "execution_count": 15,
      "metadata": {
        "id": "MCc1ID9F_jd8"
      },
      "outputs": [],
      "source": [
        "# Importing test data\n",
        "X_test_all= pd.read_table('X_test.csv', sep=';')\n",
        "X_test = X_test_all.drop(['_id'],axis=1)\n",
        "\n",
        "# Test data preparation\n",
        "\n",
        "# Imputation\n",
        "median_imputer = MeanMedianImputer(\n",
        "                   imputation_method='median')\n",
        "median_imputer.fit(X_test)\n",
        "X_test = median_imputer.transform(X_test)\n",
        "\n",
        "# Replace non numeric values in num_1 with None\n",
        "X_test.num_1 = X_test.num_1.replace(['- ch'], [None]).replace(['- kw (- ch)'], [None])\n",
        "\n",
        "# Impute num_1\n",
        "imputer = CategoricalImputer(variables=['num_1'],imputation_method='frequent')\n",
        "imputer.fit(X_test)\n",
        "X_test= imputer.transform(X_test)\n",
        "\n",
        "# Correct datatypes\n",
        "X_test.num_1 = X_test.num_1.astype('int64')\n",
        "X_test.date_0 = pd.to_datetime(X_test['date_0'])\n",
        "\n",
        "# Remove outliers\n",
        "#outlier_remover = OutlierTrimmer(capping_method='iqr')\n",
        "#outlier_remover.fit(X_test)\n",
        "#X_test =outlier_remover.transform(X_test)"
      ]
    },
    {
      "cell_type": "code",
      "execution_count": 16,
      "metadata": {
        "id": "7JBXRLZGMLma"
      },
      "outputs": [],
      "source": [
        "# Preprocessing of testing data, get predictions\n",
        "y_pred_test = pipe.predict(X_test)"
      ]
    },
    {
      "cell_type": "code",
      "execution_count": 17,
      "metadata": {
        "colab": {
          "base_uri": "https://localhost:8080/",
          "height": 424
        },
        "id": "Btm-9sXTMLma",
        "outputId": "6942bb41-0089-4ca1-fbf6-356bd2d892fc"
      },
      "outputs": [
        {
          "output_type": "execute_result",
          "data": {
            "text/plain": [
              "                            _id        y_pred\n",
              "0      6251210db22e614680cef17b   3081.580000\n",
              "1      609a41b746383f48ea7ed9c4  16703.070000\n",
              "2      609b46c346383f48ea85a360  11372.790000\n",
              "3      609a42ee46383f48ea7ef087   7841.750000\n",
              "4      609a42cd46383f48ea7eed93  15693.050000\n",
              "...                         ...           ...\n",
              "14995  60c24c9b13534a25ba2a0db5  15903.017500\n",
              "14996  60f9d5d134503562bdb88291  29292.536333\n",
              "14997  624a3221792dc740f97d0aad  10777.350000\n",
              "14998  624a54d7792dc740f97e2ccc  12237.670000\n",
              "14999  624a6eed792dc740f97f0496  14422.470000\n",
              "\n",
              "[15000 rows x 2 columns]"
            ],
            "text/html": [
              "\n",
              "  <div id=\"df-18d5513f-47f6-424a-b42a-0512fd45c5dc\" class=\"colab-df-container\">\n",
              "    <div>\n",
              "<style scoped>\n",
              "    .dataframe tbody tr th:only-of-type {\n",
              "        vertical-align: middle;\n",
              "    }\n",
              "\n",
              "    .dataframe tbody tr th {\n",
              "        vertical-align: top;\n",
              "    }\n",
              "\n",
              "    .dataframe thead th {\n",
              "        text-align: right;\n",
              "    }\n",
              "</style>\n",
              "<table border=\"1\" class=\"dataframe\">\n",
              "  <thead>\n",
              "    <tr style=\"text-align: right;\">\n",
              "      <th></th>\n",
              "      <th>_id</th>\n",
              "      <th>y_pred</th>\n",
              "    </tr>\n",
              "  </thead>\n",
              "  <tbody>\n",
              "    <tr>\n",
              "      <th>0</th>\n",
              "      <td>6251210db22e614680cef17b</td>\n",
              "      <td>3081.580000</td>\n",
              "    </tr>\n",
              "    <tr>\n",
              "      <th>1</th>\n",
              "      <td>609a41b746383f48ea7ed9c4</td>\n",
              "      <td>16703.070000</td>\n",
              "    </tr>\n",
              "    <tr>\n",
              "      <th>2</th>\n",
              "      <td>609b46c346383f48ea85a360</td>\n",
              "      <td>11372.790000</td>\n",
              "    </tr>\n",
              "    <tr>\n",
              "      <th>3</th>\n",
              "      <td>609a42ee46383f48ea7ef087</td>\n",
              "      <td>7841.750000</td>\n",
              "    </tr>\n",
              "    <tr>\n",
              "      <th>4</th>\n",
              "      <td>609a42cd46383f48ea7eed93</td>\n",
              "      <td>15693.050000</td>\n",
              "    </tr>\n",
              "    <tr>\n",
              "      <th>...</th>\n",
              "      <td>...</td>\n",
              "      <td>...</td>\n",
              "    </tr>\n",
              "    <tr>\n",
              "      <th>14995</th>\n",
              "      <td>60c24c9b13534a25ba2a0db5</td>\n",
              "      <td>15903.017500</td>\n",
              "    </tr>\n",
              "    <tr>\n",
              "      <th>14996</th>\n",
              "      <td>60f9d5d134503562bdb88291</td>\n",
              "      <td>29292.536333</td>\n",
              "    </tr>\n",
              "    <tr>\n",
              "      <th>14997</th>\n",
              "      <td>624a3221792dc740f97d0aad</td>\n",
              "      <td>10777.350000</td>\n",
              "    </tr>\n",
              "    <tr>\n",
              "      <th>14998</th>\n",
              "      <td>624a54d7792dc740f97e2ccc</td>\n",
              "      <td>12237.670000</td>\n",
              "    </tr>\n",
              "    <tr>\n",
              "      <th>14999</th>\n",
              "      <td>624a6eed792dc740f97f0496</td>\n",
              "      <td>14422.470000</td>\n",
              "    </tr>\n",
              "  </tbody>\n",
              "</table>\n",
              "<p>15000 rows × 2 columns</p>\n",
              "</div>\n",
              "    <div class=\"colab-df-buttons\">\n",
              "\n",
              "  <div class=\"colab-df-container\">\n",
              "    <button class=\"colab-df-convert\" onclick=\"convertToInteractive('df-18d5513f-47f6-424a-b42a-0512fd45c5dc')\"\n",
              "            title=\"Convert this dataframe to an interactive table.\"\n",
              "            style=\"display:none;\">\n",
              "\n",
              "  <svg xmlns=\"http://www.w3.org/2000/svg\" height=\"24px\" viewBox=\"0 -960 960 960\">\n",
              "    <path d=\"M120-120v-720h720v720H120Zm60-500h600v-160H180v160Zm220 220h160v-160H400v160Zm0 220h160v-160H400v160ZM180-400h160v-160H180v160Zm440 0h160v-160H620v160ZM180-180h160v-160H180v160Zm440 0h160v-160H620v160Z\"/>\n",
              "  </svg>\n",
              "    </button>\n",
              "\n",
              "  <style>\n",
              "    .colab-df-container {\n",
              "      display:flex;\n",
              "      gap: 12px;\n",
              "    }\n",
              "\n",
              "    .colab-df-convert {\n",
              "      background-color: #E8F0FE;\n",
              "      border: none;\n",
              "      border-radius: 50%;\n",
              "      cursor: pointer;\n",
              "      display: none;\n",
              "      fill: #1967D2;\n",
              "      height: 32px;\n",
              "      padding: 0 0 0 0;\n",
              "      width: 32px;\n",
              "    }\n",
              "\n",
              "    .colab-df-convert:hover {\n",
              "      background-color: #E2EBFA;\n",
              "      box-shadow: 0px 1px 2px rgba(60, 64, 67, 0.3), 0px 1px 3px 1px rgba(60, 64, 67, 0.15);\n",
              "      fill: #174EA6;\n",
              "    }\n",
              "\n",
              "    .colab-df-buttons div {\n",
              "      margin-bottom: 4px;\n",
              "    }\n",
              "\n",
              "    [theme=dark] .colab-df-convert {\n",
              "      background-color: #3B4455;\n",
              "      fill: #D2E3FC;\n",
              "    }\n",
              "\n",
              "    [theme=dark] .colab-df-convert:hover {\n",
              "      background-color: #434B5C;\n",
              "      box-shadow: 0px 1px 3px 1px rgba(0, 0, 0, 0.15);\n",
              "      filter: drop-shadow(0px 1px 2px rgba(0, 0, 0, 0.3));\n",
              "      fill: #FFFFFF;\n",
              "    }\n",
              "  </style>\n",
              "\n",
              "    <script>\n",
              "      const buttonEl =\n",
              "        document.querySelector('#df-18d5513f-47f6-424a-b42a-0512fd45c5dc button.colab-df-convert');\n",
              "      buttonEl.style.display =\n",
              "        google.colab.kernel.accessAllowed ? 'block' : 'none';\n",
              "\n",
              "      async function convertToInteractive(key) {\n",
              "        const element = document.querySelector('#df-18d5513f-47f6-424a-b42a-0512fd45c5dc');\n",
              "        const dataTable =\n",
              "          await google.colab.kernel.invokeFunction('convertToInteractive',\n",
              "                                                    [key], {});\n",
              "        if (!dataTable) return;\n",
              "\n",
              "        const docLinkHtml = 'Like what you see? Visit the ' +\n",
              "          '<a target=\"_blank\" href=https://colab.research.google.com/notebooks/data_table.ipynb>data table notebook</a>'\n",
              "          + ' to learn more about interactive tables.';\n",
              "        element.innerHTML = '';\n",
              "        dataTable['output_type'] = 'display_data';\n",
              "        await google.colab.output.renderOutput(dataTable, element);\n",
              "        const docLink = document.createElement('div');\n",
              "        docLink.innerHTML = docLinkHtml;\n",
              "        element.appendChild(docLink);\n",
              "      }\n",
              "    </script>\n",
              "  </div>\n",
              "\n",
              "\n",
              "<div id=\"df-ed98670e-670d-4e29-90c4-2cfaf08ff8e3\">\n",
              "  <button class=\"colab-df-quickchart\" onclick=\"quickchart('df-ed98670e-670d-4e29-90c4-2cfaf08ff8e3')\"\n",
              "            title=\"Suggest charts.\"\n",
              "            style=\"display:none;\">\n",
              "\n",
              "<svg xmlns=\"http://www.w3.org/2000/svg\" height=\"24px\"viewBox=\"0 0 24 24\"\n",
              "     width=\"24px\">\n",
              "    <g>\n",
              "        <path d=\"M19 3H5c-1.1 0-2 .9-2 2v14c0 1.1.9 2 2 2h14c1.1 0 2-.9 2-2V5c0-1.1-.9-2-2-2zM9 17H7v-7h2v7zm4 0h-2V7h2v10zm4 0h-2v-4h2v4z\"/>\n",
              "    </g>\n",
              "</svg>\n",
              "  </button>\n",
              "\n",
              "<style>\n",
              "  .colab-df-quickchart {\n",
              "    background-color: #E8F0FE;\n",
              "    border: none;\n",
              "    border-radius: 50%;\n",
              "    cursor: pointer;\n",
              "    display: none;\n",
              "    fill: #1967D2;\n",
              "    height: 32px;\n",
              "    padding: 0 0 0 0;\n",
              "    width: 32px;\n",
              "  }\n",
              "\n",
              "  .colab-df-quickchart:hover {\n",
              "    background-color: #E2EBFA;\n",
              "    box-shadow: 0px 1px 2px rgba(60, 64, 67, 0.3), 0px 1px 3px 1px rgba(60, 64, 67, 0.15);\n",
              "    fill: #174EA6;\n",
              "  }\n",
              "\n",
              "  [theme=dark] .colab-df-quickchart {\n",
              "    background-color: #3B4455;\n",
              "    fill: #D2E3FC;\n",
              "  }\n",
              "\n",
              "  [theme=dark] .colab-df-quickchart:hover {\n",
              "    background-color: #434B5C;\n",
              "    box-shadow: 0px 1px 3px 1px rgba(0, 0, 0, 0.15);\n",
              "    filter: drop-shadow(0px 1px 2px rgba(0, 0, 0, 0.3));\n",
              "    fill: #FFFFFF;\n",
              "  }\n",
              "</style>\n",
              "\n",
              "  <script>\n",
              "    async function quickchart(key) {\n",
              "      const charts = await google.colab.kernel.invokeFunction(\n",
              "          'suggestCharts', [key], {});\n",
              "    }\n",
              "    (() => {\n",
              "      let quickchartButtonEl =\n",
              "        document.querySelector('#df-ed98670e-670d-4e29-90c4-2cfaf08ff8e3 button');\n",
              "      quickchartButtonEl.style.display =\n",
              "        google.colab.kernel.accessAllowed ? 'block' : 'none';\n",
              "    })();\n",
              "  </script>\n",
              "</div>\n",
              "    </div>\n",
              "  </div>\n"
            ]
          },
          "metadata": {},
          "execution_count": 17
        }
      ],
      "source": [
        "id=X_test_all['_id']\n",
        "y_pred_test= pd.Series(y_pred_test)\n",
        "y_pred = pd.concat([id.reset_index(drop=True), y_pred_test.reset_index(drop=True)], axis=1)\n",
        "y_pred = y_pred.rename(columns={0:\"y_pred\"})\n",
        "y_pred"
      ]
    },
    {
      "cell_type": "code",
      "execution_count": 18,
      "metadata": {
        "id": "tfHvWNWIMLmb"
      },
      "outputs": [],
      "source": [
        "y_pred.to_csv('y_pred.csv',sep = ';',columns=['_id','y_pred'],index = False)"
      ]
    },
    {
      "cell_type": "code",
      "execution_count": null,
      "metadata": {
        "id": "x6jDqXm-6wwB"
      },
      "outputs": [],
      "source": [
        "# Performance evaluation\n",
        "\n",
        "# Mean Absolute Error\n",
        "print(\"\\tMean absolute error:\", mean_absolute_error(y_test, y_pred_test))\n",
        "\n",
        "# R Squared & Adjusted R Squared\n",
        "r2 = r2_score(y_test, y_pred_test)\n",
        "adj_r2 = 1 - (1-r2)*(len(X_train) - 1) / (len(X_train) - (X_train.shape[1] - 1) - 1)\n",
        "print(\"\\tR2 score:\", r2)\n",
        "print(\"\\tAdjusted R2 score:\", adj_r2)\n",
        "\n",
        "# Root Mean Squared Error\n",
        "mse = mean_squared_error(y_test, y_pred_test)\n",
        "rmse = math.sqrt(mse)\n",
        "print('\\tRMSE: %f' % rmse)"
      ]
    },
    {
      "cell_type": "code",
      "execution_count": null,
      "metadata": {
        "id": "vlhqiqfMD9AZ"
      },
      "outputs": [],
      "source": [
        "# Preprocessing of testing data, get predictions with GridSearch best estimator\n",
        "y_pred_test_grid = estimator.best_estimator_.predict(X_test)"
      ]
    }
  ],
  "metadata": {
    "colab": {
      "provenance": [],
      "authorship_tag": "ABX9TyPNYrhWOQZaHL7aX7qk7gnW",
      "include_colab_link": true
    },
    "kernelspec": {
      "display_name": "Python 3",
      "name": "python3"
    },
    "language_info": {
      "name": "python"
    }
  },
  "nbformat": 4,
  "nbformat_minor": 0
}