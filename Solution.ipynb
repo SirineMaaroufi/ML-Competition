{
  "cells": [
    {
      "cell_type": "markdown",
      "metadata": {
        "id": "P7kXwspAKm_W"
      },
      "source": [
        "# Machine Learning Competition Aug22 By Business & AI\n",
        "### Author: Sirine Maàroufi"
      ]
    },
    {
      "cell_type": "markdown",
      "metadata": {
        "id": "6OHTgKf7ObDY"
      },
      "source": [
        "## Importing important libraries"
      ]
    },
    {
      "cell_type": "code",
      "execution_count": 1,
      "metadata": {
        "colab": {
          "base_uri": "https://localhost:8080/"
        },
        "id": "gxxdw-t10EXa",
        "outputId": "e81628a8-ca95-4fd1-c911-98ef056d1c01"
      },
      "outputs": [
        {
          "output_type": "stream",
          "name": "stdout",
          "text": [
            "Requirement already satisfied: feature_engine in /usr/local/lib/python3.10/dist-packages (1.6.1)\n",
            "Requirement already satisfied: numpy>=1.18.2 in /usr/local/lib/python3.10/dist-packages (from feature_engine) (1.23.5)\n",
            "Requirement already satisfied: pandas>=1.0.3 in /usr/local/lib/python3.10/dist-packages (from feature_engine) (1.5.3)\n",
            "Requirement already satisfied: scikit-learn>=1.0.0 in /usr/local/lib/python3.10/dist-packages (from feature_engine) (1.2.2)\n",
            "Requirement already satisfied: scipy>=1.4.1 in /usr/local/lib/python3.10/dist-packages (from feature_engine) (1.10.1)\n",
            "Requirement already satisfied: statsmodels>=0.11.1 in /usr/local/lib/python3.10/dist-packages (from feature_engine) (0.14.0)\n",
            "Requirement already satisfied: python-dateutil>=2.8.1 in /usr/local/lib/python3.10/dist-packages (from pandas>=1.0.3->feature_engine) (2.8.2)\n",
            "Requirement already satisfied: pytz>=2020.1 in /usr/local/lib/python3.10/dist-packages (from pandas>=1.0.3->feature_engine) (2023.3)\n",
            "Requirement already satisfied: joblib>=1.1.1 in /usr/local/lib/python3.10/dist-packages (from scikit-learn>=1.0.0->feature_engine) (1.3.2)\n",
            "Requirement already satisfied: threadpoolctl>=2.0.0 in /usr/local/lib/python3.10/dist-packages (from scikit-learn>=1.0.0->feature_engine) (3.2.0)\n",
            "Requirement already satisfied: patsy>=0.5.2 in /usr/local/lib/python3.10/dist-packages (from statsmodels>=0.11.1->feature_engine) (0.5.3)\n",
            "Requirement already satisfied: packaging>=21.3 in /usr/local/lib/python3.10/dist-packages (from statsmodels>=0.11.1->feature_engine) (23.1)\n",
            "Requirement already satisfied: six in /usr/local/lib/python3.10/dist-packages (from patsy>=0.5.2->statsmodels>=0.11.1->feature_engine) (1.16.0)\n"
          ]
        }
      ],
      "source": [
        "pip install feature_engine"
      ]
    },
    {
      "cell_type": "code",
      "execution_count": 2,
      "metadata": {
        "id": "Xh6Su8-iWc-i"
      },
      "outputs": [],
      "source": [
        "import numpy as np\n",
        "import pandas as pd\n",
        "from datetime import datetime\n",
        "from sklearn import metrics\n",
        "import math\n",
        "from sklearn.metrics import mean_absolute_error,r2_score,mean_squared_error\n",
        "from sklearn.feature_extraction.text import TfidfVectorizer, CountVectorizer\n",
        "from feature_engine import transformation as vt\n",
        "from feature_engine.imputation import DropMissingData, MeanMedianImputer, CategoricalImputer\n",
        "from feature_engine.datetime import DatetimeFeatures\n",
        "from feature_engine.selection import SmartCorrelatedSelection,DropConstantFeatures,DropDuplicateFeatures\n",
        "from sklearn.preprocessing import PolynomialFeatures,  StandardScaler\n",
        "from sklearn.decomposition import PCA, TruncatedSVD\n",
        "from sklearn.compose import ColumnTransformer, make_column_selector\n",
        "from sklearn.pipeline import  Pipeline\n",
        "from sklearn.linear_model import LinearRegression , Ridge , RANSACRegressor, Lasso, ElasticNet , HuberRegressor\n",
        "from sklearn.compose import TransformedTargetRegressor\n",
        "from sklearn.model_selection import train_test_split\n",
        "from feature_engine.outliers import OutlierTrimmer\n",
        "from sklearn.ensemble import  RandomForestRegressor\n",
        "from sklearn.svm import SVR\n",
        "from sklearn.neighbors import KNeighborsRegressor\n",
        "from sklearn.tree import DecisionTreeRegressor\n",
        "from sklearn.neural_network import MLPRegressor\n",
        "import warnings\n",
        "warnings.filterwarnings(\"ignore\")"
      ]
    },
    {
      "cell_type": "markdown",
      "metadata": {
        "id": "GjBAiIqHfawm"
      },
      "source": [
        "<a id='wrangling'></a>\n",
        "## Data Wrangling\n",
        "### General Properties"
      ]
    },
    {
      "cell_type": "code",
      "execution_count": 3,
      "metadata": {
        "collapsed": true,
        "id": "OhEPnKNNfawm"
      },
      "outputs": [],
      "source": [
        "# Importing the training data\n",
        "df = pd.read_csv('Xy_train.csv', sep = ';')"
      ]
    },
    {
      "cell_type": "code",
      "execution_count": 4,
      "metadata": {
        "colab": {
          "base_uri": "https://localhost:8080/"
        },
        "id": "ooT4uhCJxEV6",
        "outputId": "944cb366-869b-400e-d7ca-af7c0825d88f"
      },
      "outputs": [
        {
          "output_type": "execute_result",
          "data": {
            "text/plain": [
              "(45000, 28)"
            ]
          },
          "metadata": {},
          "execution_count": 4
        }
      ],
      "source": [
        "# Getting the shape of our data\n",
        "df.shape"
      ]
    },
    {
      "cell_type": "code",
      "execution_count": 5,
      "metadata": {
        "colab": {
          "base_uri": "https://localhost:8080/"
        },
        "id": "HAlsITqdxPS8",
        "outputId": "31b2eafb-557b-419b-9c41-7a67c5b9ca59"
      },
      "outputs": [
        {
          "output_type": "stream",
          "name": "stdout",
          "text": [
            "<class 'pandas.core.frame.DataFrame'>\n",
            "RangeIndex: 45000 entries, 0 to 44999\n",
            "Data columns (total 28 columns):\n",
            " #   Column   Non-Null Count  Dtype  \n",
            "---  ------   --------------  -----  \n",
            " 0   _id      45000 non-null  object \n",
            " 1   categ_0  45000 non-null  int64  \n",
            " 2   txt_0    45000 non-null  object \n",
            " 3   categ_1  45000 non-null  int64  \n",
            " 4   num_0    45000 non-null  int64  \n",
            " 5   categ_2  45000 non-null  int64  \n",
            " 6   categ_4  45000 non-null  int64  \n",
            " 7   categ_5  45000 non-null  int64  \n",
            " 8   num_5    12584 non-null  float64\n",
            " 9   categ_8  45000 non-null  int64  \n",
            " 10  num_3    14534 non-null  float64\n",
            " 11  num_8    9241 non-null   float64\n",
            " 12  num_1    20797 non-null  object \n",
            " 13  num_9    3261 non-null   float64\n",
            " 14  txt_2    45000 non-null  object \n",
            " 15  date_0   45000 non-null  object \n",
            " 16  categ_9  45000 non-null  int64  \n",
            " 17  num_10   43464 non-null  float64\n",
            " 18  categ_6  45000 non-null  int64  \n",
            " 19  categ_7  45000 non-null  int64  \n",
            " 20  txt_3    45000 non-null  object \n",
            " 21  num_4    39724 non-null  float64\n",
            " 22  categ_3  45000 non-null  int64  \n",
            " 23  txt_1    45000 non-null  object \n",
            " 24  num_6    1682 non-null   float64\n",
            " 25  num_2    9326 non-null   float64\n",
            " 26  num_7    2312 non-null   float64\n",
            " 27  y        44999 non-null  float64\n",
            "dtypes: float64(10), int64(11), object(7)\n",
            "memory usage: 9.6+ MB\n"
          ]
        }
      ],
      "source": [
        "# Getting infos about our data: data types, missing values\n",
        "df.info()"
      ]
    },
    {
      "cell_type": "code",
      "execution_count": 6,
      "metadata": {
        "colab": {
          "base_uri": "https://localhost:8080/"
        },
        "id": "lGs5OssTxyKX",
        "outputId": "967ac6a9-c93a-47e7-cd81-4819a3b85e4d"
      },
      "outputs": [
        {
          "output_type": "execute_result",
          "data": {
            "text/plain": [
              "_id            0\n",
              "categ_0        0\n",
              "txt_0          0\n",
              "categ_1        0\n",
              "num_0          0\n",
              "categ_2        0\n",
              "categ_4        0\n",
              "categ_5        0\n",
              "num_5      32416\n",
              "categ_8        0\n",
              "num_3      30466\n",
              "num_8      35759\n",
              "num_1      24203\n",
              "num_9      41739\n",
              "txt_2          0\n",
              "date_0         0\n",
              "categ_9        0\n",
              "num_10      1536\n",
              "categ_6        0\n",
              "categ_7        0\n",
              "txt_3          0\n",
              "num_4       5276\n",
              "categ_3        0\n",
              "txt_1          0\n",
              "num_6      43318\n",
              "num_2      35674\n",
              "num_7      42688\n",
              "y              1\n",
              "dtype: int64"
            ]
          },
          "metadata": {},
          "execution_count": 6
        }
      ],
      "source": [
        "df.isnull().sum()"
      ]
    },
    {
      "cell_type": "code",
      "execution_count": 7,
      "metadata": {
        "colab": {
          "base_uri": "https://localhost:8080/"
        },
        "id": "TPHqLEUeyG8N",
        "outputId": "b2316147-35a1-4af6-eabb-67131e854dd0"
      },
      "outputs": [
        {
          "output_type": "execute_result",
          "data": {
            "text/plain": [
              "0"
            ]
          },
          "metadata": {},
          "execution_count": 7
        }
      ],
      "source": [
        "df.duplicated().sum()"
      ]
    },
    {
      "cell_type": "markdown",
      "metadata": {
        "id": "Gi-RmvvbUsrR"
      },
      "source": [
        "### Data preparation"
      ]
    },
    {
      "cell_type": "code",
      "execution_count": 8,
      "metadata": {
        "id": "Q5ts49OZb8nL"
      },
      "outputs": [],
      "source": [
        "# Data Imputation\n",
        "median_imputer = MeanMedianImputer(\n",
        "                   imputation_method='median')\n",
        "median_imputer.fit(df)\n",
        "df= median_imputer.transform(df)\n",
        "\n",
        "# Replace non numeric values in num_1 with None\n",
        "df.num_1 = df.num_1.replace(['- ch'], [None]).replace(['- kw (- ch)'], [None])\n",
        "\n",
        "# Impute num_1\n",
        "imputer = CategoricalImputer(variables=['num_1'],imputation_method='frequent')\n",
        "imputer.fit(df)\n",
        "df= imputer.transform(df)\n",
        "\n",
        "# Correct datatypes\n",
        "df.num_1 = df.num_1.astype('int64')\n",
        "df.date_0 = pd.to_datetime(df['date_0'])\n",
        "\n",
        "df.drop('categ_4', axis=1, inplace=True)\n",
        "# Remove outliers\n",
        "outlier_remover = OutlierTrimmer(capping_method='gaussian')\n",
        "outlier_remover.fit(df)\n",
        "df = outlier_remover.transform(df)"
      ]
    },
    {
      "cell_type": "code",
      "execution_count": 9,
      "metadata": {
        "colab": {
          "base_uri": "https://localhost:8080/"
        },
        "id": "d3OGMvDIQ5mi",
        "outputId": "08759d21-7af8-40ec-9a84-f771d4eb1724"
      },
      "outputs": [
        {
          "output_type": "stream",
          "name": "stdout",
          "text": [
            "<class 'pandas.core.frame.DataFrame'>\n",
            "Int64Index: 42163 entries, 0 to 44999\n",
            "Data columns (total 27 columns):\n",
            " #   Column   Non-Null Count  Dtype         \n",
            "---  ------   --------------  -----         \n",
            " 0   _id      42163 non-null  object        \n",
            " 1   categ_0  42163 non-null  int64         \n",
            " 2   txt_0    42163 non-null  object        \n",
            " 3   categ_1  42163 non-null  int64         \n",
            " 4   num_0    42163 non-null  int64         \n",
            " 5   categ_2  42163 non-null  int64         \n",
            " 6   categ_5  42163 non-null  int64         \n",
            " 7   num_5    42163 non-null  float64       \n",
            " 8   categ_8  42163 non-null  int64         \n",
            " 9   num_3    42163 non-null  float64       \n",
            " 10  num_8    42163 non-null  float64       \n",
            " 11  num_1    42163 non-null  int64         \n",
            " 12  num_9    42163 non-null  float64       \n",
            " 13  txt_2    42163 non-null  object        \n",
            " 14  date_0   42163 non-null  datetime64[ns]\n",
            " 15  categ_9  42163 non-null  int64         \n",
            " 16  num_10   42163 non-null  float64       \n",
            " 17  categ_6  42163 non-null  int64         \n",
            " 18  categ_7  42163 non-null  int64         \n",
            " 19  txt_3    42163 non-null  object        \n",
            " 20  num_4    42163 non-null  float64       \n",
            " 21  categ_3  42163 non-null  int64         \n",
            " 22  txt_1    42163 non-null  object        \n",
            " 23  num_6    42163 non-null  float64       \n",
            " 24  num_2    42163 non-null  float64       \n",
            " 25  num_7    42163 non-null  float64       \n",
            " 26  y        42163 non-null  float64       \n",
            "dtypes: datetime64[ns](1), float64(10), int64(11), object(5)\n",
            "memory usage: 9.0+ MB\n"
          ]
        }
      ],
      "source": [
        "df.info()"
      ]
    },
    {
      "cell_type": "code",
      "execution_count": 10,
      "metadata": {
        "id": "2mIbcInN8tU1"
      },
      "outputs": [],
      "source": [
        "# Choose target and features\n",
        "y = df.y\n",
        "\n",
        "X = df.drop(['y','_id'],axis=1)\n",
        "\n",
        "# Break off Validation set from training data\n",
        "X_train, X_val, y_train, y_val = train_test_split(X, y, train_size=0.8,\n",
        "                                                    test_size=0.2,\n",
        "                                                    random_state=100)"
      ]
    },
    {
      "cell_type": "markdown",
      "metadata": {
        "id": "n7ME5jIN1KZZ"
      },
      "source": [
        "### Preprocessing Pipeline"
      ]
    },
    {
      "cell_type": "code",
      "execution_count": 11,
      "metadata": {
        "id": "e4_DR4q4VNiy"
      },
      "outputs": [],
      "source": [
        "# Preprocessing for numerical data\n",
        "#from feature_engine.creation import MathFeatures, RelativeFeatures,\n",
        "\n",
        "numerical_ix = X.select_dtypes(include=['int64', 'float64']).columns\n",
        "\n",
        "numerical_transformer = Pipeline(steps=[\n",
        "    ('power', vt.PowerTransformer(variables = None, exp=0.5)),\n",
        "    ('scaler', StandardScaler())\n",
        "\n",
        "])\n",
        "\n",
        "# Preprocessing for text data\n",
        "text_transformer = Pipeline(steps=[\n",
        "    ('tfidf',TfidfVectorizer(max_df=0.8, max_features=2000, min_df=0.01, sublinear_tf=True,\n",
        "                             use_idf=True, ngram_range=(1,1)))\n",
        "  ])\n",
        "\n",
        "# Preprocessing for Datetime Variable\n",
        "date_transformer= DatetimeFeatures(\n",
        "    variables=[\"date_0\"],\n",
        "    features_to_extract=[\"month\", \"year\"]\n",
        ")\n",
        "\n",
        "# Define data transformer\n",
        "preprocessor = ColumnTransformer(\n",
        "    transformers=[\n",
        "          # Extract features from Datetime variable\n",
        "          ('date',date_transformer ,['date_0']),\n",
        "\n",
        "          # Extract features from text variables\n",
        "          ('text_0', text_transformer, 'txt_0'),\n",
        "          ('text_1', text_transformer, 'txt_1'),\n",
        "          ('text_2', text_transformer, 'txt_2'),\n",
        "         #('text_3', text_transformer, 'txt_3'),  #text_3 gets dropped in preprocess_pipe\n",
        "\n",
        "          # Preprocess numerical variables\n",
        "          ('num',numerical_transformer, make_column_selector(dtype_include=['int64','float64']))\n",
        "\n",
        "])\n",
        "\n",
        "# Preprocessing Pipeline\n",
        "preprocess_pipe = Pipeline(steps=[\n",
        "       # Drop irrelevent columns\n",
        "       ('drop_constant_values', DropConstantFeatures()),\n",
        "       ('drop_duplicates', DropDuplicateFeatures()),\n",
        "       # Preprocessing\n",
        "       ('prep',preprocessor)\n",
        "\n",
        "])\n"
      ]
    },
    {
      "cell_type": "markdown",
      "metadata": {
        "id": "lgRdQCHN1U46"
      },
      "source": [
        "### Feature Engineering Pipeline"
      ]
    },
    {
      "cell_type": "code",
      "execution_count": 12,
      "metadata": {
        "id": "svW9usTNVObV"
      },
      "outputs": [],
      "source": [
        "FE_pipe = Pipeline(steps=[\n",
        "       # Create Polynomial features\n",
        "       ('poly', PolynomialFeatures(degree= 2, include_bias=False))\n",
        "])\n"
      ]
    },
    {
      "cell_type": "markdown",
      "metadata": {
        "id": "LM7P3yfD1afo"
      },
      "source": [
        "### ML Pipeline"
      ]
    },
    {
      "cell_type": "markdown",
      "source": [
        "#### Try Different Regressors"
      ],
      "metadata": {
        "id": "198h1Oh-l7_2"
      }
    },
    {
      "cell_type": "code",
      "source": [
        "# Regressors\n",
        "\n",
        "regressors = [\n",
        "        LinearRegression(fit_intercept=False),\n",
        "        Lasso(),\n",
        "        Ridge(),\n",
        "        ElasticNet(),\n",
        "        RANSACRegressor(random_state=42),\n",
        "        MLPRegressor()  ,\n",
        "        HuberRegressor() ,\n",
        "        KNeighborsRegressor(),\n",
        "        DecisionTreeRegressor(),             #0.90   #0.88\n",
        "        SVR (),\n",
        "        RandomForestRegressor()        # 0.92\n",
        "]\n",
        "\n",
        "for regressor in regressors:\n",
        "  # Wrapped model\n",
        "  wrapped_model = TransformedTargetRegressor(regressor= regressor, transformer = StandardScaler())\n",
        "\n",
        "  # ML pipeline\n",
        "  ML_pipe = Pipeline(steps=[\n",
        "         # Reduce Dimensionality\n",
        "        ('TruncatedSVD',TruncatedSVD(algorithm='randomized',n_components=100,\n",
        "                                     n_iter=7, random_state=42)),\n",
        "\n",
        "        # Select features\n",
        "        ('selector', SmartCorrelatedSelection(   variables=None, method=\"pearson\",\n",
        "                                                threshold=0.8,missing_values=\"ignore\",\n",
        "                                                selection_method=\"model_performance\",\n",
        "                                               scoring='r2', estimator=RandomForestRegressor(),\n",
        "                                           )),\n",
        "        # Model\n",
        "        ('model', wrapped_model)\n",
        "  ])\n",
        "\n",
        "  # Pipeline\n",
        "  pipe = Pipeline([\n",
        "\n",
        "      # Step 1: Preprocessing\n",
        "      ('preprocess',preprocess_pipe),\n",
        "      # Step 2: Create polynomial features\n",
        "      ('FE',FE_pipe),\n",
        "      # Model\n",
        "      ('model',ML_pipe)\n",
        "\n",
        "  ])\n",
        "\n",
        "  print(regressor)\n",
        "\n",
        "  # Preprocessing of training data, fit model\n",
        "  pipe.fit(X_train, y_train)\n",
        "\n",
        "  # Preprocessing of testing data, get predictions\n",
        "  y_pred_val = pipe.predict(X_val)\n",
        "\n",
        "  # Performance evaluation\n",
        "\n",
        "  # Mean Absolute Error\n",
        "  print(\"\\tMean absolute error:\", mean_absolute_error(y_val, y_pred_val ))\n",
        "\n",
        "  # R Squared & Adjusted R Squared\n",
        "  \"\"\"\n",
        "  adjusted r2 using formula adj_r2 = 1 - (1- r2) * (n-1) / (n - k - 1)\n",
        "  # k = number of predictors = data.shape[1] - 1\n",
        "  \"\"\"\n",
        "  r2 = r2_score(y_val, y_pred_val)\n",
        "  adj_r2 = 1 - (1-r2)*(len(X_train) - 1) / (len(X_train) - (X_train.shape[1] - 1) - 1)\n",
        "  print(\"\\tR2 score:\", r2)\n",
        "  print(\"\\tAdjusted R2 score:\", adj_r2)\n",
        "\n",
        "  # Root Mean Squared Error\n",
        "  mse = mean_squared_error(y_val, y_pred_val)\n",
        "  rmse = math.sqrt(mse)\n",
        "  print('\\tRMSE: %f' % rmse)"
      ],
      "metadata": {
        "colab": {
          "base_uri": "https://localhost:8080/"
        },
        "id": "ePvg8ZoGl5im",
        "outputId": "22c61bf0-b5a0-4549-ac70-d25f6033fd9c"
      },
      "execution_count": 19,
      "outputs": [
        {
          "output_type": "stream",
          "name": "stdout",
          "text": [
            "LinearRegression(fit_intercept=False)\n",
            "\tMean absolute error: 3048.8712879743975\n",
            "\tR2 score: 0.745829996729394\n",
            "\tAdjusted R2 score: 0.7456490123033891\n",
            "\tRMSE: 4460.213398\n",
            "Lasso()\n",
            "\tMean absolute error: 3062.6566600490014\n",
            "\tR2 score: 0.7431407713904779\n",
            "\tAdjusted R2 score: 0.7429578720732659\n",
            "\tRMSE: 4483.746779\n",
            "Ridge()\n",
            "\tMean absolute error: 3050.333266528878\n",
            "\tR2 score: 0.7459318988469582\n",
            "\tAdjusted R2 score: 0.7457509869814287\n",
            "\tRMSE: 4459.319211\n",
            "ElasticNet()\n",
            "\tMean absolute error: 3052.9285430151463\n",
            "\tR2 score: 0.744889829188067\n",
            "\tAdjusted R2 score: 0.7447081753058689\n",
            "\tRMSE: 4468.454884\n",
            "RANSACRegressor(random_state=42)\n",
            "\tMean absolute error: 253525797.62754998\n",
            "\tR2 score: -52981056061.36541\n",
            "\tAdjusted R2 score: -53018781779.967896\n",
            "\tRMSE: 2036356428.983261\n",
            "MLPRegressor()\n",
            "\tMean absolute error: 286289.4135140283\n",
            "\tR2 score: -2101.0066246123038\n",
            "\tAdjusted R2 score: -2102.5033805532826\n",
            "\tRMSE: 405611.753241\n",
            "HuberRegressor()\n",
            "\tMean absolute error: 3161.617146828533\n",
            "\tR2 score: 0.6533363244613409\n",
            "\tAdjusted R2 score: 0.6530894789424884\n",
            "\tRMSE: 5208.919663\n",
            "KNeighborsRegressor()\n",
            "\tMean absolute error: 1781.7672240009485\n",
            "\tR2 score: 0.8963687993794952\n",
            "\tAdjusted R2 score: 0.89629500769236\n",
            "\tRMSE: 2847.991938\n",
            "DecisionTreeRegressor()\n",
            "\tMean absolute error: 1978.5177866160611\n",
            "\tR2 score: 0.8223802092096559\n",
            "\tAdjusted R2 score: 0.8222537331681496\n",
            "\tRMSE: 3728.543101\n",
            "SVR()\n",
            "\tMean absolute error: 7063.920852387831\n",
            "\tR2 score: 0.009797390692586339\n",
            "\tAdjusted R2 score: 0.009092306502603287\n",
            "\tRMSE: 8803.503148\n",
            "RandomForestRegressor()\n",
            "\tMean absolute error: 1485.0820175761755\n",
            "\tR2 score: 0.9173867951890603\n",
            "\tAdjusted R2 score: 0.9173279695870588\n",
            "\tRMSE: 2542.835265\n"
          ]
        }
      ]
    },
    {
      "cell_type": "code",
      "execution_count": 13,
      "metadata": {
        "colab": {
          "base_uri": "https://localhost:8080/"
        },
        "id": "kKaYP28cVQPt",
        "outputId": "c4dc7fea-1621-42cc-d3a8-d891958bb70e"
      },
      "outputs": [
        {
          "output_type": "stream",
          "name": "stdout",
          "text": [
            "RandomForestRegressor()\n",
            "\tMean absolute error: 1479.7026136566271\n",
            "\tR2 score: 0.917124773554375\n",
            "\tAdjusted R2 score: 0.9170657613771107\n",
            "\tRMSE: 2546.864587\n"
          ]
        }
      ],
      "source": [
        "# Regressor\n",
        "\n",
        "regressor = RandomForestRegressor()        # 0.92 /0.948/0.949/0.956/0.964  / 0.934\n",
        "\n",
        "# Wrapped model\n",
        "wrapped_model = TransformedTargetRegressor(regressor= regressor, transformer = StandardScaler())\n",
        "\n",
        "# ML pipeline\n",
        "ML_pipe = Pipeline(steps=[\n",
        "\n",
        "        # Reduce Dimensionality\n",
        "        ('TruncatedSVD',TruncatedSVD(algorithm='randomized',n_components=100,\n",
        "                                     n_iter=7, random_state=42)),\n",
        "\n",
        "        # Select features\n",
        "        ('selector', SmartCorrelatedSelection(   variables=None, method=\"pearson\",\n",
        "                                                threshold=0.8,missing_values=\"ignore\",\n",
        "                                                selection_method=\"model_performance\",\n",
        "                                               scoring='r2', estimator=RandomForestRegressor(),\n",
        "                                           )),\n",
        "        # Model\n",
        "        ('model', wrapped_model)\n",
        "])\n",
        "\n",
        "# Pipeline\n",
        "pipe = Pipeline([\n",
        "\n",
        "    # Step 1: Preprocessing\n",
        "    ('Preprocessing', preprocess_pipe),\n",
        "    # Step 2: Create polynomial features\n",
        "    ('Feature_Engineering', FE_pipe),\n",
        "    # Model\n",
        "    ('ML', ML_pipe)\n",
        "\n",
        "])\n",
        "\n",
        "print(regressor)\n",
        "# Preprocessing of training data, fit model\n",
        "pipe.fit(X_train, y_train)\n",
        "\n",
        "# Preprocessing of Validation data, get predictions\n",
        "y_pred_val = pipe.predict(X_val)\n",
        "\n",
        "# Performance evaluation\n",
        "\n",
        "# Mean Absolute Error\n",
        "print(\"\\tMean absolute error:\", mean_absolute_error(y_val, y_pred_val ))\n",
        "\n",
        "# R Squared & Adjusted R Squared\n",
        "r2 = r2_score(y_val, y_pred_val)\n",
        "adj_r2 = 1 - (1-r2)*(len(X_train) - 1) / (len(X_train) - (X_train.shape[1] - 1) - 1)\n",
        "print(\"\\tR2 score:\", r2)\n",
        "print(\"\\tAdjusted R2 score:\", adj_r2)\n",
        "\n",
        "# Root Mean Squared Error\n",
        "mse = mean_squared_error(y_val, y_pred_val)\n",
        "rmse = math.sqrt(mse)\n",
        "print('\\tRMSE: %f' % rmse)"
      ]
    },
    {
      "cell_type": "code",
      "execution_count": 20,
      "metadata": {
        "colab": {
          "base_uri": "https://localhost:8080/",
          "height": 608
        },
        "id": "EOuu0Qo5NrvU",
        "outputId": "536bd423-a7b3-404a-c8f2-35191cf5b737"
      },
      "outputs": [
        {
          "output_type": "display_data",
          "data": {
            "text/plain": [
              "Pipeline(steps=[('preprocess',\n",
              "                 Pipeline(steps=[('drop_constant_values',\n",
              "                                  DropConstantFeatures()),\n",
              "                                 ('drop_duplicates', DropDuplicateFeatures()),\n",
              "                                 ('prep',\n",
              "                                  ColumnTransformer(transformers=[('date',\n",
              "                                                                   DatetimeFeatures(features_to_extract=['month',\n",
              "                                                                                                         'year'],\n",
              "                                                                                    variables=['date_0']),\n",
              "                                                                   ['date_0']),\n",
              "                                                                  ('text_0',\n",
              "                                                                   Pipeline(steps=[('tfidf',\n",
              "                                                                                    TfidfVectorizer(max_df=0.8,\n",
              "                                                                                                    max_features=2...\n",
              "                                  PolynomialFeatures(include_bias=False))])),\n",
              "                ('model',\n",
              "                 Pipeline(steps=[('TruncatedSVD',\n",
              "                                  TruncatedSVD(n_components=100, n_iter=7,\n",
              "                                               random_state=42)),\n",
              "                                 ('selector',\n",
              "                                  SmartCorrelatedSelection(estimator=RandomForestRegressor(),\n",
              "                                                           scoring='r2',\n",
              "                                                           selection_method='model_performance')),\n",
              "                                 ('model',\n",
              "                                  TransformedTargetRegressor(regressor=RandomForestRegressor(),\n",
              "                                                             transformer=StandardScaler()))]))])"
            ],
            "text/html": [
              "<style>#sk-container-id-2 {color: black;background-color: white;}#sk-container-id-2 pre{padding: 0;}#sk-container-id-2 div.sk-toggleable {background-color: white;}#sk-container-id-2 label.sk-toggleable__label {cursor: pointer;display: block;width: 100%;margin-bottom: 0;padding: 0.3em;box-sizing: border-box;text-align: center;}#sk-container-id-2 label.sk-toggleable__label-arrow:before {content: \"▸\";float: left;margin-right: 0.25em;color: #696969;}#sk-container-id-2 label.sk-toggleable__label-arrow:hover:before {color: black;}#sk-container-id-2 div.sk-estimator:hover label.sk-toggleable__label-arrow:before {color: black;}#sk-container-id-2 div.sk-toggleable__content {max-height: 0;max-width: 0;overflow: hidden;text-align: left;background-color: #f0f8ff;}#sk-container-id-2 div.sk-toggleable__content pre {margin: 0.2em;color: black;border-radius: 0.25em;background-color: #f0f8ff;}#sk-container-id-2 input.sk-toggleable__control:checked~div.sk-toggleable__content {max-height: 200px;max-width: 100%;overflow: auto;}#sk-container-id-2 input.sk-toggleable__control:checked~label.sk-toggleable__label-arrow:before {content: \"▾\";}#sk-container-id-2 div.sk-estimator input.sk-toggleable__control:checked~label.sk-toggleable__label {background-color: #d4ebff;}#sk-container-id-2 div.sk-label input.sk-toggleable__control:checked~label.sk-toggleable__label {background-color: #d4ebff;}#sk-container-id-2 input.sk-hidden--visually {border: 0;clip: rect(1px 1px 1px 1px);clip: rect(1px, 1px, 1px, 1px);height: 1px;margin: -1px;overflow: hidden;padding: 0;position: absolute;width: 1px;}#sk-container-id-2 div.sk-estimator {font-family: monospace;background-color: #f0f8ff;border: 1px dotted black;border-radius: 0.25em;box-sizing: border-box;margin-bottom: 0.5em;}#sk-container-id-2 div.sk-estimator:hover {background-color: #d4ebff;}#sk-container-id-2 div.sk-parallel-item::after {content: \"\";width: 100%;border-bottom: 1px solid gray;flex-grow: 1;}#sk-container-id-2 div.sk-label:hover label.sk-toggleable__label {background-color: #d4ebff;}#sk-container-id-2 div.sk-serial::before {content: \"\";position: absolute;border-left: 1px solid gray;box-sizing: border-box;top: 0;bottom: 0;left: 50%;z-index: 0;}#sk-container-id-2 div.sk-serial {display: flex;flex-direction: column;align-items: center;background-color: white;padding-right: 0.2em;padding-left: 0.2em;position: relative;}#sk-container-id-2 div.sk-item {position: relative;z-index: 1;}#sk-container-id-2 div.sk-parallel {display: flex;align-items: stretch;justify-content: center;background-color: white;position: relative;}#sk-container-id-2 div.sk-item::before, #sk-container-id-2 div.sk-parallel-item::before {content: \"\";position: absolute;border-left: 1px solid gray;box-sizing: border-box;top: 0;bottom: 0;left: 50%;z-index: -1;}#sk-container-id-2 div.sk-parallel-item {display: flex;flex-direction: column;z-index: 1;position: relative;background-color: white;}#sk-container-id-2 div.sk-parallel-item:first-child::after {align-self: flex-end;width: 50%;}#sk-container-id-2 div.sk-parallel-item:last-child::after {align-self: flex-start;width: 50%;}#sk-container-id-2 div.sk-parallel-item:only-child::after {width: 0;}#sk-container-id-2 div.sk-dashed-wrapped {border: 1px dashed gray;margin: 0 0.4em 0.5em 0.4em;box-sizing: border-box;padding-bottom: 0.4em;background-color: white;}#sk-container-id-2 div.sk-label label {font-family: monospace;font-weight: bold;display: inline-block;line-height: 1.2em;}#sk-container-id-2 div.sk-label-container {text-align: center;}#sk-container-id-2 div.sk-container {/* jupyter's `normalize.less` sets `[hidden] { display: none; }` but bootstrap.min.css set `[hidden] { display: none !important; }` so we also need the `!important` here to be able to override the default hidden behavior on the sphinx rendered scikit-learn.org. See: https://github.com/scikit-learn/scikit-learn/issues/21755 */display: inline-block !important;position: relative;}#sk-container-id-2 div.sk-text-repr-fallback {display: none;}</style><div id=\"sk-container-id-2\" class=\"sk-top-container\"><div class=\"sk-text-repr-fallback\"><pre>Pipeline(steps=[(&#x27;preprocess&#x27;,\n",
              "                 Pipeline(steps=[(&#x27;drop_constant_values&#x27;,\n",
              "                                  DropConstantFeatures()),\n",
              "                                 (&#x27;drop_duplicates&#x27;, DropDuplicateFeatures()),\n",
              "                                 (&#x27;prep&#x27;,\n",
              "                                  ColumnTransformer(transformers=[(&#x27;date&#x27;,\n",
              "                                                                   DatetimeFeatures(features_to_extract=[&#x27;month&#x27;,\n",
              "                                                                                                         &#x27;year&#x27;],\n",
              "                                                                                    variables=[&#x27;date_0&#x27;]),\n",
              "                                                                   [&#x27;date_0&#x27;]),\n",
              "                                                                  (&#x27;text_0&#x27;,\n",
              "                                                                   Pipeline(steps=[(&#x27;tfidf&#x27;,\n",
              "                                                                                    TfidfVectorizer(max_df=0.8,\n",
              "                                                                                                    max_features=2...\n",
              "                                  PolynomialFeatures(include_bias=False))])),\n",
              "                (&#x27;model&#x27;,\n",
              "                 Pipeline(steps=[(&#x27;TruncatedSVD&#x27;,\n",
              "                                  TruncatedSVD(n_components=100, n_iter=7,\n",
              "                                               random_state=42)),\n",
              "                                 (&#x27;selector&#x27;,\n",
              "                                  SmartCorrelatedSelection(estimator=RandomForestRegressor(),\n",
              "                                                           scoring=&#x27;r2&#x27;,\n",
              "                                                           selection_method=&#x27;model_performance&#x27;)),\n",
              "                                 (&#x27;model&#x27;,\n",
              "                                  TransformedTargetRegressor(regressor=RandomForestRegressor(),\n",
              "                                                             transformer=StandardScaler()))]))])</pre><b>In a Jupyter environment, please rerun this cell to show the HTML representation or trust the notebook. <br />On GitHub, the HTML representation is unable to render, please try loading this page with nbviewer.org.</b></div><div class=\"sk-container\" hidden><div class=\"sk-item sk-dashed-wrapped\"><div class=\"sk-label-container\"><div class=\"sk-label sk-toggleable\"><input class=\"sk-toggleable__control sk-hidden--visually\" id=\"sk-estimator-id-29\" type=\"checkbox\" ><label for=\"sk-estimator-id-29\" class=\"sk-toggleable__label sk-toggleable__label-arrow\">Pipeline</label><div class=\"sk-toggleable__content\"><pre>Pipeline(steps=[(&#x27;preprocess&#x27;,\n",
              "                 Pipeline(steps=[(&#x27;drop_constant_values&#x27;,\n",
              "                                  DropConstantFeatures()),\n",
              "                                 (&#x27;drop_duplicates&#x27;, DropDuplicateFeatures()),\n",
              "                                 (&#x27;prep&#x27;,\n",
              "                                  ColumnTransformer(transformers=[(&#x27;date&#x27;,\n",
              "                                                                   DatetimeFeatures(features_to_extract=[&#x27;month&#x27;,\n",
              "                                                                                                         &#x27;year&#x27;],\n",
              "                                                                                    variables=[&#x27;date_0&#x27;]),\n",
              "                                                                   [&#x27;date_0&#x27;]),\n",
              "                                                                  (&#x27;text_0&#x27;,\n",
              "                                                                   Pipeline(steps=[(&#x27;tfidf&#x27;,\n",
              "                                                                                    TfidfVectorizer(max_df=0.8,\n",
              "                                                                                                    max_features=2...\n",
              "                                  PolynomialFeatures(include_bias=False))])),\n",
              "                (&#x27;model&#x27;,\n",
              "                 Pipeline(steps=[(&#x27;TruncatedSVD&#x27;,\n",
              "                                  TruncatedSVD(n_components=100, n_iter=7,\n",
              "                                               random_state=42)),\n",
              "                                 (&#x27;selector&#x27;,\n",
              "                                  SmartCorrelatedSelection(estimator=RandomForestRegressor(),\n",
              "                                                           scoring=&#x27;r2&#x27;,\n",
              "                                                           selection_method=&#x27;model_performance&#x27;)),\n",
              "                                 (&#x27;model&#x27;,\n",
              "                                  TransformedTargetRegressor(regressor=RandomForestRegressor(),\n",
              "                                                             transformer=StandardScaler()))]))])</pre></div></div></div><div class=\"sk-serial\"><div class=\"sk-item\"><div class=\"sk-label-container\"><div class=\"sk-label sk-toggleable\"><input class=\"sk-toggleable__control sk-hidden--visually\" id=\"sk-estimator-id-30\" type=\"checkbox\" ><label for=\"sk-estimator-id-30\" class=\"sk-toggleable__label sk-toggleable__label-arrow\">preprocess: Pipeline</label><div class=\"sk-toggleable__content\"><pre>Pipeline(steps=[(&#x27;drop_constant_values&#x27;, DropConstantFeatures()),\n",
              "                (&#x27;drop_duplicates&#x27;, DropDuplicateFeatures()),\n",
              "                (&#x27;prep&#x27;,\n",
              "                 ColumnTransformer(transformers=[(&#x27;date&#x27;,\n",
              "                                                  DatetimeFeatures(features_to_extract=[&#x27;month&#x27;,\n",
              "                                                                                        &#x27;year&#x27;],\n",
              "                                                                   variables=[&#x27;date_0&#x27;]),\n",
              "                                                  [&#x27;date_0&#x27;]),\n",
              "                                                 (&#x27;text_0&#x27;,\n",
              "                                                  Pipeline(steps=[(&#x27;tfidf&#x27;,\n",
              "                                                                   TfidfVectorizer(max_df=0.8,\n",
              "                                                                                   max_features=2000,\n",
              "                                                                                   min_df=0.01,\n",
              "                                                                                   sublinear_tf=T...\n",
              "                                                                                   max_features=2000,\n",
              "                                                                                   min_df=0.01,\n",
              "                                                                                   sublinear_tf=True))]),\n",
              "                                                  &#x27;txt_1&#x27;),\n",
              "                                                 (&#x27;text_2&#x27;,\n",
              "                                                  Pipeline(steps=[(&#x27;tfidf&#x27;,\n",
              "                                                                   TfidfVectorizer(max_df=0.8,\n",
              "                                                                                   max_features=2000,\n",
              "                                                                                   min_df=0.01,\n",
              "                                                                                   sublinear_tf=True))]),\n",
              "                                                  &#x27;txt_2&#x27;),\n",
              "                                                 (&#x27;num&#x27;,\n",
              "                                                  Pipeline(steps=[(&#x27;power&#x27;,\n",
              "                                                                   PowerTransformer()),\n",
              "                                                                  (&#x27;scaler&#x27;,\n",
              "                                                                   StandardScaler())]),\n",
              "                                                  &lt;sklearn.compose._column_transformer.make_column_selector object at 0x7917bf870190&gt;)]))])</pre></div></div></div><div class=\"sk-serial\"><div class=\"sk-item\"><div class=\"sk-estimator sk-toggleable\"><input class=\"sk-toggleable__control sk-hidden--visually\" id=\"sk-estimator-id-31\" type=\"checkbox\" ><label for=\"sk-estimator-id-31\" class=\"sk-toggleable__label sk-toggleable__label-arrow\">DropConstantFeatures</label><div class=\"sk-toggleable__content\"><pre>DropConstantFeatures()</pre></div></div></div><div class=\"sk-item\"><div class=\"sk-estimator sk-toggleable\"><input class=\"sk-toggleable__control sk-hidden--visually\" id=\"sk-estimator-id-32\" type=\"checkbox\" ><label for=\"sk-estimator-id-32\" class=\"sk-toggleable__label sk-toggleable__label-arrow\">DropDuplicateFeatures</label><div class=\"sk-toggleable__content\"><pre>DropDuplicateFeatures()</pre></div></div></div><div class=\"sk-item sk-dashed-wrapped\"><div class=\"sk-label-container\"><div class=\"sk-label sk-toggleable\"><input class=\"sk-toggleable__control sk-hidden--visually\" id=\"sk-estimator-id-33\" type=\"checkbox\" ><label for=\"sk-estimator-id-33\" class=\"sk-toggleable__label sk-toggleable__label-arrow\">prep: ColumnTransformer</label><div class=\"sk-toggleable__content\"><pre>ColumnTransformer(transformers=[(&#x27;date&#x27;,\n",
              "                                 DatetimeFeatures(features_to_extract=[&#x27;month&#x27;,\n",
              "                                                                       &#x27;year&#x27;],\n",
              "                                                  variables=[&#x27;date_0&#x27;]),\n",
              "                                 [&#x27;date_0&#x27;]),\n",
              "                                (&#x27;text_0&#x27;,\n",
              "                                 Pipeline(steps=[(&#x27;tfidf&#x27;,\n",
              "                                                  TfidfVectorizer(max_df=0.8,\n",
              "                                                                  max_features=2000,\n",
              "                                                                  min_df=0.01,\n",
              "                                                                  sublinear_tf=True))]),\n",
              "                                 &#x27;txt_0&#x27;),\n",
              "                                (&#x27;text_1&#x27;,\n",
              "                                 Pipeline(steps=[(&#x27;tfidf&#x27;,\n",
              "                                                  TfidfVectorizer(max_df=0.8,\n",
              "                                                                  max_features=2000,\n",
              "                                                                  min_df=0.01,\n",
              "                                                                  sublinear_tf=True))]),\n",
              "                                 &#x27;txt_1&#x27;),\n",
              "                                (&#x27;text_2&#x27;,\n",
              "                                 Pipeline(steps=[(&#x27;tfidf&#x27;,\n",
              "                                                  TfidfVectorizer(max_df=0.8,\n",
              "                                                                  max_features=2000,\n",
              "                                                                  min_df=0.01,\n",
              "                                                                  sublinear_tf=True))]),\n",
              "                                 &#x27;txt_2&#x27;),\n",
              "                                (&#x27;num&#x27;,\n",
              "                                 Pipeline(steps=[(&#x27;power&#x27;, PowerTransformer()),\n",
              "                                                 (&#x27;scaler&#x27;, StandardScaler())]),\n",
              "                                 &lt;sklearn.compose._column_transformer.make_column_selector object at 0x7917bf870190&gt;)])</pre></div></div></div><div class=\"sk-parallel\"><div class=\"sk-parallel-item\"><div class=\"sk-item\"><div class=\"sk-label-container\"><div class=\"sk-label sk-toggleable\"><input class=\"sk-toggleable__control sk-hidden--visually\" id=\"sk-estimator-id-34\" type=\"checkbox\" ><label for=\"sk-estimator-id-34\" class=\"sk-toggleable__label sk-toggleable__label-arrow\">date</label><div class=\"sk-toggleable__content\"><pre>[&#x27;date_0&#x27;]</pre></div></div></div><div class=\"sk-serial\"><div class=\"sk-item\"><div class=\"sk-estimator sk-toggleable\"><input class=\"sk-toggleable__control sk-hidden--visually\" id=\"sk-estimator-id-35\" type=\"checkbox\" ><label for=\"sk-estimator-id-35\" class=\"sk-toggleable__label sk-toggleable__label-arrow\">DatetimeFeatures</label><div class=\"sk-toggleable__content\"><pre>DatetimeFeatures(features_to_extract=[&#x27;month&#x27;, &#x27;year&#x27;], variables=[&#x27;date_0&#x27;])</pre></div></div></div></div></div></div><div class=\"sk-parallel-item\"><div class=\"sk-item\"><div class=\"sk-label-container\"><div class=\"sk-label sk-toggleable\"><input class=\"sk-toggleable__control sk-hidden--visually\" id=\"sk-estimator-id-36\" type=\"checkbox\" ><label for=\"sk-estimator-id-36\" class=\"sk-toggleable__label sk-toggleable__label-arrow\">text_0</label><div class=\"sk-toggleable__content\"><pre>txt_0</pre></div></div></div><div class=\"sk-serial\"><div class=\"sk-item\"><div class=\"sk-serial\"><div class=\"sk-item\"><div class=\"sk-estimator sk-toggleable\"><input class=\"sk-toggleable__control sk-hidden--visually\" id=\"sk-estimator-id-37\" type=\"checkbox\" ><label for=\"sk-estimator-id-37\" class=\"sk-toggleable__label sk-toggleable__label-arrow\">TfidfVectorizer</label><div class=\"sk-toggleable__content\"><pre>TfidfVectorizer(max_df=0.8, max_features=2000, min_df=0.01, sublinear_tf=True)</pre></div></div></div></div></div></div></div></div><div class=\"sk-parallel-item\"><div class=\"sk-item\"><div class=\"sk-label-container\"><div class=\"sk-label sk-toggleable\"><input class=\"sk-toggleable__control sk-hidden--visually\" id=\"sk-estimator-id-38\" type=\"checkbox\" ><label for=\"sk-estimator-id-38\" class=\"sk-toggleable__label sk-toggleable__label-arrow\">text_1</label><div class=\"sk-toggleable__content\"><pre>txt_1</pre></div></div></div><div class=\"sk-serial\"><div class=\"sk-item\"><div class=\"sk-serial\"><div class=\"sk-item\"><div class=\"sk-estimator sk-toggleable\"><input class=\"sk-toggleable__control sk-hidden--visually\" id=\"sk-estimator-id-39\" type=\"checkbox\" ><label for=\"sk-estimator-id-39\" class=\"sk-toggleable__label sk-toggleable__label-arrow\">TfidfVectorizer</label><div class=\"sk-toggleable__content\"><pre>TfidfVectorizer(max_df=0.8, max_features=2000, min_df=0.01, sublinear_tf=True)</pre></div></div></div></div></div></div></div></div><div class=\"sk-parallel-item\"><div class=\"sk-item\"><div class=\"sk-label-container\"><div class=\"sk-label sk-toggleable\"><input class=\"sk-toggleable__control sk-hidden--visually\" id=\"sk-estimator-id-40\" type=\"checkbox\" ><label for=\"sk-estimator-id-40\" class=\"sk-toggleable__label sk-toggleable__label-arrow\">text_2</label><div class=\"sk-toggleable__content\"><pre>txt_2</pre></div></div></div><div class=\"sk-serial\"><div class=\"sk-item\"><div class=\"sk-serial\"><div class=\"sk-item\"><div class=\"sk-estimator sk-toggleable\"><input class=\"sk-toggleable__control sk-hidden--visually\" id=\"sk-estimator-id-41\" type=\"checkbox\" ><label for=\"sk-estimator-id-41\" class=\"sk-toggleable__label sk-toggleable__label-arrow\">TfidfVectorizer</label><div class=\"sk-toggleable__content\"><pre>TfidfVectorizer(max_df=0.8, max_features=2000, min_df=0.01, sublinear_tf=True)</pre></div></div></div></div></div></div></div></div><div class=\"sk-parallel-item\"><div class=\"sk-item\"><div class=\"sk-label-container\"><div class=\"sk-label sk-toggleable\"><input class=\"sk-toggleable__control sk-hidden--visually\" id=\"sk-estimator-id-42\" type=\"checkbox\" ><label for=\"sk-estimator-id-42\" class=\"sk-toggleable__label sk-toggleable__label-arrow\">num</label><div class=\"sk-toggleable__content\"><pre>&lt;sklearn.compose._column_transformer.make_column_selector object at 0x7917bf870190&gt;</pre></div></div></div><div class=\"sk-serial\"><div class=\"sk-item\"><div class=\"sk-serial\"><div class=\"sk-item\"><div class=\"sk-estimator sk-toggleable\"><input class=\"sk-toggleable__control sk-hidden--visually\" id=\"sk-estimator-id-43\" type=\"checkbox\" ><label for=\"sk-estimator-id-43\" class=\"sk-toggleable__label sk-toggleable__label-arrow\">PowerTransformer</label><div class=\"sk-toggleable__content\"><pre>PowerTransformer()</pre></div></div></div><div class=\"sk-item\"><div class=\"sk-estimator sk-toggleable\"><input class=\"sk-toggleable__control sk-hidden--visually\" id=\"sk-estimator-id-44\" type=\"checkbox\" ><label for=\"sk-estimator-id-44\" class=\"sk-toggleable__label sk-toggleable__label-arrow\">StandardScaler</label><div class=\"sk-toggleable__content\"><pre>StandardScaler()</pre></div></div></div></div></div></div></div></div></div></div></div></div><div class=\"sk-item\"><div class=\"sk-label-container\"><div class=\"sk-label sk-toggleable\"><input class=\"sk-toggleable__control sk-hidden--visually\" id=\"sk-estimator-id-45\" type=\"checkbox\" ><label for=\"sk-estimator-id-45\" class=\"sk-toggleable__label sk-toggleable__label-arrow\">FE: Pipeline</label><div class=\"sk-toggleable__content\"><pre>Pipeline(steps=[(&#x27;poly&#x27;, PolynomialFeatures(include_bias=False))])</pre></div></div></div><div class=\"sk-serial\"><div class=\"sk-item\"><div class=\"sk-estimator sk-toggleable\"><input class=\"sk-toggleable__control sk-hidden--visually\" id=\"sk-estimator-id-46\" type=\"checkbox\" ><label for=\"sk-estimator-id-46\" class=\"sk-toggleable__label sk-toggleable__label-arrow\">PolynomialFeatures</label><div class=\"sk-toggleable__content\"><pre>PolynomialFeatures(include_bias=False)</pre></div></div></div></div></div><div class=\"sk-item\"><div class=\"sk-label-container\"><div class=\"sk-label sk-toggleable\"><input class=\"sk-toggleable__control sk-hidden--visually\" id=\"sk-estimator-id-47\" type=\"checkbox\" ><label for=\"sk-estimator-id-47\" class=\"sk-toggleable__label sk-toggleable__label-arrow\">model: Pipeline</label><div class=\"sk-toggleable__content\"><pre>Pipeline(steps=[(&#x27;TruncatedSVD&#x27;,\n",
              "                 TruncatedSVD(n_components=100, n_iter=7, random_state=42)),\n",
              "                (&#x27;selector&#x27;,\n",
              "                 SmartCorrelatedSelection(estimator=RandomForestRegressor(),\n",
              "                                          scoring=&#x27;r2&#x27;,\n",
              "                                          selection_method=&#x27;model_performance&#x27;)),\n",
              "                (&#x27;model&#x27;,\n",
              "                 TransformedTargetRegressor(regressor=RandomForestRegressor(),\n",
              "                                            transformer=StandardScaler()))])</pre></div></div></div><div class=\"sk-serial\"><div class=\"sk-item\"><div class=\"sk-estimator sk-toggleable\"><input class=\"sk-toggleable__control sk-hidden--visually\" id=\"sk-estimator-id-48\" type=\"checkbox\" ><label for=\"sk-estimator-id-48\" class=\"sk-toggleable__label sk-toggleable__label-arrow\">TruncatedSVD</label><div class=\"sk-toggleable__content\"><pre>TruncatedSVD(n_components=100, n_iter=7, random_state=42)</pre></div></div></div><div class=\"sk-item sk-dashed-wrapped\"><div class=\"sk-label-container\"><div class=\"sk-label sk-toggleable\"><input class=\"sk-toggleable__control sk-hidden--visually\" id=\"sk-estimator-id-49\" type=\"checkbox\" ><label for=\"sk-estimator-id-49\" class=\"sk-toggleable__label sk-toggleable__label-arrow\">selector: SmartCorrelatedSelection</label><div class=\"sk-toggleable__content\"><pre>SmartCorrelatedSelection(estimator=RandomForestRegressor(), scoring=&#x27;r2&#x27;,\n",
              "                         selection_method=&#x27;model_performance&#x27;)</pre></div></div></div><div class=\"sk-parallel\"><div class=\"sk-parallel-item\"><div class=\"sk-item\"><div class=\"sk-label-container\"><div class=\"sk-label sk-toggleable\"><input class=\"sk-toggleable__control sk-hidden--visually\" id=\"sk-estimator-id-50\" type=\"checkbox\" ><label for=\"sk-estimator-id-50\" class=\"sk-toggleable__label sk-toggleable__label-arrow\">estimator: RandomForestRegressor</label><div class=\"sk-toggleable__content\"><pre>RandomForestRegressor()</pre></div></div></div><div class=\"sk-serial\"><div class=\"sk-item\"><div class=\"sk-estimator sk-toggleable\"><input class=\"sk-toggleable__control sk-hidden--visually\" id=\"sk-estimator-id-51\" type=\"checkbox\" ><label for=\"sk-estimator-id-51\" class=\"sk-toggleable__label sk-toggleable__label-arrow\">RandomForestRegressor</label><div class=\"sk-toggleable__content\"><pre>RandomForestRegressor()</pre></div></div></div></div></div></div></div></div><div class=\"sk-item sk-dashed-wrapped\"><div class=\"sk-label-container\"><div class=\"sk-label sk-toggleable\"><input class=\"sk-toggleable__control sk-hidden--visually\" id=\"sk-estimator-id-52\" type=\"checkbox\" ><label for=\"sk-estimator-id-52\" class=\"sk-toggleable__label sk-toggleable__label-arrow\">model: TransformedTargetRegressor</label><div class=\"sk-toggleable__content\"><pre>TransformedTargetRegressor(regressor=RandomForestRegressor(),\n",
              "                           transformer=StandardScaler())</pre></div></div></div><div class=\"sk-parallel\"><div class=\"sk-parallel-item\"><div class=\"sk-item\"><div class=\"sk-label-container\"><div class=\"sk-label sk-toggleable\"><input class=\"sk-toggleable__control sk-hidden--visually\" id=\"sk-estimator-id-53\" type=\"checkbox\" ><label for=\"sk-estimator-id-53\" class=\"sk-toggleable__label sk-toggleable__label-arrow\">regressor: RandomForestRegressor</label><div class=\"sk-toggleable__content\"><pre>RandomForestRegressor()</pre></div></div></div><div class=\"sk-serial\"><div class=\"sk-item\"><div class=\"sk-estimator sk-toggleable\"><input class=\"sk-toggleable__control sk-hidden--visually\" id=\"sk-estimator-id-54\" type=\"checkbox\" ><label for=\"sk-estimator-id-54\" class=\"sk-toggleable__label sk-toggleable__label-arrow\">RandomForestRegressor</label><div class=\"sk-toggleable__content\"><pre>RandomForestRegressor()</pre></div></div></div></div></div></div><div class=\"sk-parallel-item\"><div class=\"sk-item\"><div class=\"sk-label-container\"><div class=\"sk-label sk-toggleable\"><input class=\"sk-toggleable__control sk-hidden--visually\" id=\"sk-estimator-id-55\" type=\"checkbox\" ><label for=\"sk-estimator-id-55\" class=\"sk-toggleable__label sk-toggleable__label-arrow\">transformer: StandardScaler</label><div class=\"sk-toggleable__content\"><pre>StandardScaler()</pre></div></div></div><div class=\"sk-serial\"><div class=\"sk-item\"><div class=\"sk-estimator sk-toggleable\"><input class=\"sk-toggleable__control sk-hidden--visually\" id=\"sk-estimator-id-56\" type=\"checkbox\" ><label for=\"sk-estimator-id-56\" class=\"sk-toggleable__label sk-toggleable__label-arrow\">StandardScaler</label><div class=\"sk-toggleable__content\"><pre>StandardScaler()</pre></div></div></div></div></div></div></div></div></div></div></div></div></div></div>"
            ]
          },
          "metadata": {}
        }
      ],
      "source": [
        "from sklearn import set_config\n",
        "set_config(display='diagram')\n",
        "display(pipe)"
      ]
    },
    {
      "cell_type": "code",
      "execution_count": null,
      "metadata": {
        "id": "AQFYK8qixXVs"
      },
      "outputs": [],
      "source": [
        "from sklearn.model_selection import GridSearchCV\n",
        "\n",
        "# Number of trees in random forest\n",
        "n_estimators = [int(x) for x in np.linspace(start = 200, stop = 2000, num = 10)]\n",
        "\n",
        "# Number of features to consider at every split\n",
        "max_features = ['auto', 'sqrt']\n",
        "\n",
        "# Maximum number of levels in tree\n",
        "max_depth = [int(x) for x in np.linspace(10, 110, num = 11)]\n",
        "max_depth.append(None)\n",
        "\n",
        "# Minimum number of samples required to split a node\n",
        "min_samples_split = [2, 5, 10]\n",
        "\n",
        "# Minimum number of samples required at each leaf node\n",
        "min_samples_leaf = [1, 2, 4]\n",
        "\n",
        "# Method of selecting samples for training each tree\n",
        "bootstrap = [True, False]\n",
        "\n",
        "# Create the param grid\n",
        "parameters = {'ML__model__regressor__n_estimators': n_estimators,\n",
        "               'ML__model__regressor__max_features': max_features,\n",
        "               'ML__model__regressor__max_depth': max_depth,\n",
        "               'ML__model__regressor__min_samples_split': min_samples_split,\n",
        "               'ML__model__regressor__min_samples_leaf': min_samples_leaf,\n",
        "               'ML__model__regressor__bootstrap': bootstrap}\n",
        "\n",
        "estimator = GridSearchCV(pipe, param_grid = parameters, cv = 2, n_jobs=-1)\n",
        "estimator.fit(X_train, y_train)\n",
        "print(estimator.score(X_val,y_val))\n",
        "print(estimator.best_params_,'\\n')\n",
        "print(estimator.best_estimator_,'\\n')\n",
        "\n",
        "# --> best estimator ="
      ]
    },
    {
      "cell_type": "markdown",
      "metadata": {
        "id": "RfKrQgKqPzW1"
      },
      "source": [
        "### Predicting"
      ]
    },
    {
      "cell_type": "code",
      "execution_count": 21,
      "metadata": {
        "id": "MCc1ID9F_jd8"
      },
      "outputs": [],
      "source": [
        "# Importing test data\n",
        "X_test_all= pd.read_table('X_test.csv', sep=';')\n",
        "X_test = X_test_all.drop(['_id'],axis=1)\n",
        "\n",
        "# Test data preparation\n",
        "\n",
        "# Imputation\n",
        "median_imputer = MeanMedianImputer(\n",
        "                   imputation_method='median')\n",
        "median_imputer.fit(X_test)\n",
        "X_test = median_imputer.transform(X_test)\n",
        "\n",
        "# Replace non numeric values in num_1 with None\n",
        "X_test.num_1 = X_test.num_1.replace(['- ch'], [None]).replace(['- kw (- ch)'], [None])\n",
        "\n",
        "# Impute num_1\n",
        "imputer = CategoricalImputer(variables=['num_1'],imputation_method='frequent')\n",
        "imputer.fit(X_test)\n",
        "X_test= imputer.transform(X_test)\n",
        "\n",
        "# Correct datatypes\n",
        "X_test.num_1 = X_test.num_1.astype('int64')\n",
        "X_test.date_0 = pd.to_datetime(X_test['date_0'])\n",
        "\n",
        "X_test.drop('categ_4', axis=1, inplace=True)\n",
        "# Remove outliers\n",
        "outlier_remover = OutlierTrimmer(capping_method='gaussian')\n",
        "outlier_remover.fit(X_test)\n",
        "X_test =outlier_remover.transform(X_test)"
      ]
    },
    {
      "cell_type": "code",
      "execution_count": 22,
      "metadata": {
        "id": "7JBXRLZGMLma"
      },
      "outputs": [],
      "source": [
        "# Preprocessing of testing data, get predictions\n",
        "y_pred_test = pipe.predict(X_test)"
      ]
    },
    {
      "cell_type": "code",
      "execution_count": 23,
      "metadata": {
        "colab": {
          "base_uri": "https://localhost:8080/",
          "height": 424
        },
        "id": "Btm-9sXTMLma",
        "outputId": "e79d80ea-a231-43ef-f8f8-44d8eee13995"
      },
      "outputs": [
        {
          "output_type": "execute_result",
          "data": {
            "text/plain": [
              "                            _id    y_pred\n",
              "0      6251210db22e614680cef17b   3027.94\n",
              "1      609a41b746383f48ea7ed9c4  11261.59\n",
              "2      609b46c346383f48ea85a360   8310.72\n",
              "3      609a42ee46383f48ea7ef087   3241.96\n",
              "4      609a42cd46383f48ea7eed93  27350.53\n",
              "...                         ...       ...\n",
              "14995  60c24c9b13534a25ba2a0db5       NaN\n",
              "14996  60f9d5d134503562bdb88291       NaN\n",
              "14997  624a3221792dc740f97d0aad       NaN\n",
              "14998  624a54d7792dc740f97e2ccc       NaN\n",
              "14999  624a6eed792dc740f97f0496       NaN\n",
              "\n",
              "[15000 rows x 2 columns]"
            ],
            "text/html": [
              "\n",
              "  <div id=\"df-df444ba6-16b6-4795-afd8-03b7ddb1acf7\" class=\"colab-df-container\">\n",
              "    <div>\n",
              "<style scoped>\n",
              "    .dataframe tbody tr th:only-of-type {\n",
              "        vertical-align: middle;\n",
              "    }\n",
              "\n",
              "    .dataframe tbody tr th {\n",
              "        vertical-align: top;\n",
              "    }\n",
              "\n",
              "    .dataframe thead th {\n",
              "        text-align: right;\n",
              "    }\n",
              "</style>\n",
              "<table border=\"1\" class=\"dataframe\">\n",
              "  <thead>\n",
              "    <tr style=\"text-align: right;\">\n",
              "      <th></th>\n",
              "      <th>_id</th>\n",
              "      <th>y_pred</th>\n",
              "    </tr>\n",
              "  </thead>\n",
              "  <tbody>\n",
              "    <tr>\n",
              "      <th>0</th>\n",
              "      <td>6251210db22e614680cef17b</td>\n",
              "      <td>3027.94</td>\n",
              "    </tr>\n",
              "    <tr>\n",
              "      <th>1</th>\n",
              "      <td>609a41b746383f48ea7ed9c4</td>\n",
              "      <td>11261.59</td>\n",
              "    </tr>\n",
              "    <tr>\n",
              "      <th>2</th>\n",
              "      <td>609b46c346383f48ea85a360</td>\n",
              "      <td>8310.72</td>\n",
              "    </tr>\n",
              "    <tr>\n",
              "      <th>3</th>\n",
              "      <td>609a42ee46383f48ea7ef087</td>\n",
              "      <td>3241.96</td>\n",
              "    </tr>\n",
              "    <tr>\n",
              "      <th>4</th>\n",
              "      <td>609a42cd46383f48ea7eed93</td>\n",
              "      <td>27350.53</td>\n",
              "    </tr>\n",
              "    <tr>\n",
              "      <th>...</th>\n",
              "      <td>...</td>\n",
              "      <td>...</td>\n",
              "    </tr>\n",
              "    <tr>\n",
              "      <th>14995</th>\n",
              "      <td>60c24c9b13534a25ba2a0db5</td>\n",
              "      <td>NaN</td>\n",
              "    </tr>\n",
              "    <tr>\n",
              "      <th>14996</th>\n",
              "      <td>60f9d5d134503562bdb88291</td>\n",
              "      <td>NaN</td>\n",
              "    </tr>\n",
              "    <tr>\n",
              "      <th>14997</th>\n",
              "      <td>624a3221792dc740f97d0aad</td>\n",
              "      <td>NaN</td>\n",
              "    </tr>\n",
              "    <tr>\n",
              "      <th>14998</th>\n",
              "      <td>624a54d7792dc740f97e2ccc</td>\n",
              "      <td>NaN</td>\n",
              "    </tr>\n",
              "    <tr>\n",
              "      <th>14999</th>\n",
              "      <td>624a6eed792dc740f97f0496</td>\n",
              "      <td>NaN</td>\n",
              "    </tr>\n",
              "  </tbody>\n",
              "</table>\n",
              "<p>15000 rows × 2 columns</p>\n",
              "</div>\n",
              "    <div class=\"colab-df-buttons\">\n",
              "\n",
              "  <div class=\"colab-df-container\">\n",
              "    <button class=\"colab-df-convert\" onclick=\"convertToInteractive('df-df444ba6-16b6-4795-afd8-03b7ddb1acf7')\"\n",
              "            title=\"Convert this dataframe to an interactive table.\"\n",
              "            style=\"display:none;\">\n",
              "\n",
              "  <svg xmlns=\"http://www.w3.org/2000/svg\" height=\"24px\" viewBox=\"0 -960 960 960\">\n",
              "    <path d=\"M120-120v-720h720v720H120Zm60-500h600v-160H180v160Zm220 220h160v-160H400v160Zm0 220h160v-160H400v160ZM180-400h160v-160H180v160Zm440 0h160v-160H620v160ZM180-180h160v-160H180v160Zm440 0h160v-160H620v160Z\"/>\n",
              "  </svg>\n",
              "    </button>\n",
              "\n",
              "  <style>\n",
              "    .colab-df-container {\n",
              "      display:flex;\n",
              "      gap: 12px;\n",
              "    }\n",
              "\n",
              "    .colab-df-convert {\n",
              "      background-color: #E8F0FE;\n",
              "      border: none;\n",
              "      border-radius: 50%;\n",
              "      cursor: pointer;\n",
              "      display: none;\n",
              "      fill: #1967D2;\n",
              "      height: 32px;\n",
              "      padding: 0 0 0 0;\n",
              "      width: 32px;\n",
              "    }\n",
              "\n",
              "    .colab-df-convert:hover {\n",
              "      background-color: #E2EBFA;\n",
              "      box-shadow: 0px 1px 2px rgba(60, 64, 67, 0.3), 0px 1px 3px 1px rgba(60, 64, 67, 0.15);\n",
              "      fill: #174EA6;\n",
              "    }\n",
              "\n",
              "    .colab-df-buttons div {\n",
              "      margin-bottom: 4px;\n",
              "    }\n",
              "\n",
              "    [theme=dark] .colab-df-convert {\n",
              "      background-color: #3B4455;\n",
              "      fill: #D2E3FC;\n",
              "    }\n",
              "\n",
              "    [theme=dark] .colab-df-convert:hover {\n",
              "      background-color: #434B5C;\n",
              "      box-shadow: 0px 1px 3px 1px rgba(0, 0, 0, 0.15);\n",
              "      filter: drop-shadow(0px 1px 2px rgba(0, 0, 0, 0.3));\n",
              "      fill: #FFFFFF;\n",
              "    }\n",
              "  </style>\n",
              "\n",
              "    <script>\n",
              "      const buttonEl =\n",
              "        document.querySelector('#df-df444ba6-16b6-4795-afd8-03b7ddb1acf7 button.colab-df-convert');\n",
              "      buttonEl.style.display =\n",
              "        google.colab.kernel.accessAllowed ? 'block' : 'none';\n",
              "\n",
              "      async function convertToInteractive(key) {\n",
              "        const element = document.querySelector('#df-df444ba6-16b6-4795-afd8-03b7ddb1acf7');\n",
              "        const dataTable =\n",
              "          await google.colab.kernel.invokeFunction('convertToInteractive',\n",
              "                                                    [key], {});\n",
              "        if (!dataTable) return;\n",
              "\n",
              "        const docLinkHtml = 'Like what you see? Visit the ' +\n",
              "          '<a target=\"_blank\" href=https://colab.research.google.com/notebooks/data_table.ipynb>data table notebook</a>'\n",
              "          + ' to learn more about interactive tables.';\n",
              "        element.innerHTML = '';\n",
              "        dataTable['output_type'] = 'display_data';\n",
              "        await google.colab.output.renderOutput(dataTable, element);\n",
              "        const docLink = document.createElement('div');\n",
              "        docLink.innerHTML = docLinkHtml;\n",
              "        element.appendChild(docLink);\n",
              "      }\n",
              "    </script>\n",
              "  </div>\n",
              "\n",
              "\n",
              "<div id=\"df-884eabd7-789a-46e8-95ed-27ac93ae3692\">\n",
              "  <button class=\"colab-df-quickchart\" onclick=\"quickchart('df-884eabd7-789a-46e8-95ed-27ac93ae3692')\"\n",
              "            title=\"Suggest charts.\"\n",
              "            style=\"display:none;\">\n",
              "\n",
              "<svg xmlns=\"http://www.w3.org/2000/svg\" height=\"24px\"viewBox=\"0 0 24 24\"\n",
              "     width=\"24px\">\n",
              "    <g>\n",
              "        <path d=\"M19 3H5c-1.1 0-2 .9-2 2v14c0 1.1.9 2 2 2h14c1.1 0 2-.9 2-2V5c0-1.1-.9-2-2-2zM9 17H7v-7h2v7zm4 0h-2V7h2v10zm4 0h-2v-4h2v4z\"/>\n",
              "    </g>\n",
              "</svg>\n",
              "  </button>\n",
              "\n",
              "<style>\n",
              "  .colab-df-quickchart {\n",
              "    background-color: #E8F0FE;\n",
              "    border: none;\n",
              "    border-radius: 50%;\n",
              "    cursor: pointer;\n",
              "    display: none;\n",
              "    fill: #1967D2;\n",
              "    height: 32px;\n",
              "    padding: 0 0 0 0;\n",
              "    width: 32px;\n",
              "  }\n",
              "\n",
              "  .colab-df-quickchart:hover {\n",
              "    background-color: #E2EBFA;\n",
              "    box-shadow: 0px 1px 2px rgba(60, 64, 67, 0.3), 0px 1px 3px 1px rgba(60, 64, 67, 0.15);\n",
              "    fill: #174EA6;\n",
              "  }\n",
              "\n",
              "  [theme=dark] .colab-df-quickchart {\n",
              "    background-color: #3B4455;\n",
              "    fill: #D2E3FC;\n",
              "  }\n",
              "\n",
              "  [theme=dark] .colab-df-quickchart:hover {\n",
              "    background-color: #434B5C;\n",
              "    box-shadow: 0px 1px 3px 1px rgba(0, 0, 0, 0.15);\n",
              "    filter: drop-shadow(0px 1px 2px rgba(0, 0, 0, 0.3));\n",
              "    fill: #FFFFFF;\n",
              "  }\n",
              "</style>\n",
              "\n",
              "  <script>\n",
              "    async function quickchart(key) {\n",
              "      const charts = await google.colab.kernel.invokeFunction(\n",
              "          'suggestCharts', [key], {});\n",
              "    }\n",
              "    (() => {\n",
              "      let quickchartButtonEl =\n",
              "        document.querySelector('#df-884eabd7-789a-46e8-95ed-27ac93ae3692 button');\n",
              "      quickchartButtonEl.style.display =\n",
              "        google.colab.kernel.accessAllowed ? 'block' : 'none';\n",
              "    })();\n",
              "  </script>\n",
              "</div>\n",
              "    </div>\n",
              "  </div>\n"
            ]
          },
          "metadata": {},
          "execution_count": 23
        }
      ],
      "source": [
        "id=X_test_all['_id']\n",
        "y_pred_test= pd.Series(y_pred_test)\n",
        "y_pred = pd.concat([id.reset_index(drop=True), y_pred_test.reset_index(drop=True)], axis=1)\n",
        "y_pred = y_pred.rename(columns={0:\"y_pred\"})\n",
        "y_pred"
      ]
    },
    {
      "cell_type": "code",
      "execution_count": 24,
      "metadata": {
        "id": "tfHvWNWIMLmb"
      },
      "outputs": [],
      "source": [
        "y_pred.to_csv('y_pred.csv',sep = ';',columns=['_id','y_pred'],index = False)"
      ]
    },
    {
      "cell_type": "code",
      "execution_count": null,
      "metadata": {
        "id": "x6jDqXm-6wwB"
      },
      "outputs": [],
      "source": [
        "# Performance evaluation\n",
        "\n",
        "# Mean Absolute Error\n",
        "print(\"\\tMean absolute error:\", mean_absolute_error(y_test, y_pred_test))\n",
        "\n",
        "# R Squared & Adjusted R Squared\n",
        "r2 = r2_score(y_test, y_pred_test)\n",
        "adj_r2 = 1 - (1-r2)*(len(X_train) - 1) / (len(X_train) - (X_train.shape[1] - 1) - 1)\n",
        "print(\"\\tR2 score:\", r2)\n",
        "print(\"\\tAdjusted R2 score:\", adj_r2)\n",
        "\n",
        "# Root Mean Squared Error\n",
        "mse = mean_squared_error(y_test, y_pred_test)\n",
        "rmse = math.sqrt(mse)\n",
        "print('\\tRMSE: %f' % rmse)"
      ]
    },
    {
      "cell_type": "code",
      "execution_count": null,
      "metadata": {
        "id": "vlhqiqfMD9AZ"
      },
      "outputs": [],
      "source": [
        "# Preprocessing of testing data, get predictions with GridSearch best estimator\n",
        "y_pred_test_grid = estimator.best_estimator_.predict(X_test)"
      ]
    }
  ],
  "metadata": {
    "colab": {
      "provenance": []
    },
    "kernelspec": {
      "display_name": "Python 3",
      "name": "python3"
    },
    "language_info": {
      "name": "python"
    }
  },
  "nbformat": 4,
  "nbformat_minor": 0
}
